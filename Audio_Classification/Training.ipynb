{
 "cells": [
  {
   "cell_type": "code",
   "execution_count": 1,
   "metadata": {},
   "outputs": [],
   "source": [
    "### Let's read a sample audio using librosa\n",
    "import librosa\n",
    "audio_file_path='../UrbanSound8K/audio/fold1/7061-6-0-0.wav'\n",
    "librosa_audio_data,librosa_sample_rate=librosa.load(audio_file_path)"
   ]
  },
  {
   "cell_type": "code",
   "execution_count": 2,
   "metadata": {},
   "outputs": [
    {
     "name": "stdout",
     "output_type": "stream",
     "text": [
      "(40, 97)\n"
     ]
    }
   ],
   "source": [
    "## Mel-Frequency Cepstral Coefficients(MFCC) from the audio samples\n",
    "mfccs = librosa.feature.mfcc(y=librosa_audio_data, sr=librosa_sample_rate, n_mfcc=40)\n",
    "## n_mfcc\n",
    "print(mfccs.shape)"
   ]
  },
  {
   "cell_type": "code",
   "execution_count": 3,
   "metadata": {},
   "outputs": [
    {
     "data": {
      "text/plain": [
       "array([[-1.27213120e+02,  8.04792309e+00,  1.60044117e+01, ...,\n",
       "        -5.69353333e+02, -5.91727539e+02, -6.10657837e+02],\n",
       "       [ 3.00206680e+01,  2.29403477e+01,  1.06696825e+01, ...,\n",
       "         4.30511932e+01,  2.58880424e+01,  1.28297863e+01],\n",
       "       [-2.53601742e+00, -1.12524357e+01, -1.42598038e+01, ...,\n",
       "        -1.11037216e+01, -7.55062675e+00,  2.01516241e-01],\n",
       "       ...,\n",
       "       [ 3.23359013e-01, -3.54810309e+00, -5.02934265e+00, ...,\n",
       "         2.40957856e+00,  3.16997337e+00, -2.12704360e-01],\n",
       "       [-9.78005695e+00, -9.09051323e+00, -6.19126558e+00, ...,\n",
       "        -5.01989722e-02,  7.28950620e-01, -9.00552392e-01],\n",
       "       [ 1.65660703e+00,  1.82233298e+00,  2.83062148e+00, ...,\n",
       "        -2.06092095e+00, -2.23126650e+00, -1.77458656e+00]], dtype=float32)"
      ]
     },
     "execution_count": 3,
     "metadata": {},
     "output_type": "execute_result"
    }
   ],
   "source": [
    "mfccs"
   ]
  },
  {
   "cell_type": "code",
   "execution_count": 4,
   "metadata": {},
   "outputs": [
    {
     "data": {
      "text/html": [
       "<div>\n",
       "<style scoped>\n",
       "    .dataframe tbody tr th:only-of-type {\n",
       "        vertical-align: middle;\n",
       "    }\n",
       "\n",
       "    .dataframe tbody tr th {\n",
       "        vertical-align: top;\n",
       "    }\n",
       "\n",
       "    .dataframe thead th {\n",
       "        text-align: right;\n",
       "    }\n",
       "</style>\n",
       "<table border=\"1\" class=\"dataframe\">\n",
       "  <thead>\n",
       "    <tr style=\"text-align: right;\">\n",
       "      <th></th>\n",
       "      <th>slice_file_name</th>\n",
       "      <th>fsID</th>\n",
       "      <th>start</th>\n",
       "      <th>end</th>\n",
       "      <th>salience</th>\n",
       "      <th>fold</th>\n",
       "      <th>classID</th>\n",
       "      <th>class</th>\n",
       "    </tr>\n",
       "  </thead>\n",
       "  <tbody>\n",
       "    <tr>\n",
       "      <th>0</th>\n",
       "      <td>100032-3-0-0.wav</td>\n",
       "      <td>100032</td>\n",
       "      <td>0.0</td>\n",
       "      <td>0.317551</td>\n",
       "      <td>1</td>\n",
       "      <td>5</td>\n",
       "      <td>3</td>\n",
       "      <td>dog_bark</td>\n",
       "    </tr>\n",
       "    <tr>\n",
       "      <th>1</th>\n",
       "      <td>100263-2-0-117.wav</td>\n",
       "      <td>100263</td>\n",
       "      <td>58.5</td>\n",
       "      <td>62.500000</td>\n",
       "      <td>1</td>\n",
       "      <td>5</td>\n",
       "      <td>2</td>\n",
       "      <td>children_playing</td>\n",
       "    </tr>\n",
       "    <tr>\n",
       "      <th>2</th>\n",
       "      <td>100263-2-0-121.wav</td>\n",
       "      <td>100263</td>\n",
       "      <td>60.5</td>\n",
       "      <td>64.500000</td>\n",
       "      <td>1</td>\n",
       "      <td>5</td>\n",
       "      <td>2</td>\n",
       "      <td>children_playing</td>\n",
       "    </tr>\n",
       "    <tr>\n",
       "      <th>3</th>\n",
       "      <td>100263-2-0-126.wav</td>\n",
       "      <td>100263</td>\n",
       "      <td>63.0</td>\n",
       "      <td>67.000000</td>\n",
       "      <td>1</td>\n",
       "      <td>5</td>\n",
       "      <td>2</td>\n",
       "      <td>children_playing</td>\n",
       "    </tr>\n",
       "    <tr>\n",
       "      <th>4</th>\n",
       "      <td>100263-2-0-137.wav</td>\n",
       "      <td>100263</td>\n",
       "      <td>68.5</td>\n",
       "      <td>72.500000</td>\n",
       "      <td>1</td>\n",
       "      <td>5</td>\n",
       "      <td>2</td>\n",
       "      <td>children_playing</td>\n",
       "    </tr>\n",
       "  </tbody>\n",
       "</table>\n",
       "</div>"
      ],
      "text/plain": [
       "      slice_file_name    fsID  start        end  salience  fold  classID  \\\n",
       "0    100032-3-0-0.wav  100032    0.0   0.317551         1     5        3   \n",
       "1  100263-2-0-117.wav  100263   58.5  62.500000         1     5        2   \n",
       "2  100263-2-0-121.wav  100263   60.5  64.500000         1     5        2   \n",
       "3  100263-2-0-126.wav  100263   63.0  67.000000         1     5        2   \n",
       "4  100263-2-0-137.wav  100263   68.5  72.500000         1     5        2   \n",
       "\n",
       "              class  \n",
       "0          dog_bark  \n",
       "1  children_playing  \n",
       "2  children_playing  \n",
       "3  children_playing  \n",
       "4  children_playing  "
      ]
     },
     "execution_count": 4,
     "metadata": {},
     "output_type": "execute_result"
    }
   ],
   "source": [
    "#### Extracting MFCC's For every audio file\n",
    "import pandas as pd\n",
    "import os\n",
    "import librosa\n",
    "\n",
    "audio_dataset_path='../UrbanSound8K/audio/'\n",
    "metadata=pd.read_csv('../UrbanSound8K/metadata/UrbanSound8K.csv')\n",
    "metadata.head()"
   ]
  },
  {
   "cell_type": "code",
   "execution_count": 5,
   "metadata": {},
   "outputs": [],
   "source": [
    "import numpy as np\n",
    "def features_extractor(file_name):\n",
    "    audio, sample_rate = librosa.load(file_name, res_type='kaiser_fast') \n",
    "    mfccs_features = librosa.feature.mfcc(y=audio, sr=sample_rate, n_mfcc=40, n_fft=1024)\n",
    "    mfccs_scaled_features = np.mean(mfccs_features.T,axis=0)\n",
    "    \n",
    "    return mfccs_scaled_features"
   ]
  },
  {
   "cell_type": "markdown",
   "metadata": {},
   "source": [
    "___"
   ]
  },
  {
   "cell_type": "markdown",
   "metadata": {},
   "source": [
    "## Spectrograms\n",
    "\n",
    "Some notes about Spectograms:\n",
    "\n",
    "1. They are generated using the Fourier Transform; \n",
    "    - Moreover using the Short-Fourier Transform since we define a frame(window) and compute the fourier transform on each segment;In this way, the Spectogram encoded also the information about how the frequency components change over time\n",
    "2. Which are the output of the Fourier transform?\n",
    "    - the result is a set of complex numbers for each frequency component: a  real part and a imaginary part;\n",
    "        1. Real part: Represents the in-phase (cosine) component of the frequency.\n",
    "        2. Imaginary part: Represents the out-of-phase (sine) component of the frequency.\n",
    "    - We can use those to compute the Magnitude (shows how strongly that specific frequency is present in the signal);\n",
    "    - The magnitude reflects how much the signal resembles a sinusoid (cosine and sine combined) at frequency k. A higher magnitude means the signal has a stronger presence of that frequency.\n",
    "3. Basically the obtained magnitudes for each frame and frequencies are grouped and they generated a frequency vector"
   ]
  },
  {
   "cell_type": "markdown",
   "metadata": {},
   "source": [
    "-------"
   ]
  },
  {
   "cell_type": "markdown",
   "metadata": {},
   "source": [
    "# Power Spectrum vs Spectrograms:\n",
    "\n",
    "1. Understanding the Power Spectrum:\n",
    "    - Physical Meaning: The power spectrum shows where the energy of the signal is concentrated in the frequency domain. Peaks in the power spectrum indicate dominant frequencies that contribute most to the signal's overall behavior.\n",
    "    - Applications: It is widely used in signal processing to analyze the frequency content of signals, identify periodic components, detect noise, and much more. In speech processing, for instance, the power spectrum helps identify formants and other key features of the speech signal.\n",
    "2. A spectrogram is a time-frequency representation that shows how the power spectrum of a signal evolves over time. It provides a 3D view (usually represented in 2D) of how signal power varies with both frequency and time. It is widely used in speech processing, music analysis, sonar, and any application where it's essential to understand how signal properties change over time."
   ]
  },
  {
   "cell_type": "markdown",
   "metadata": {},
   "source": [
    "## Key Differences Summarized:\n",
    "- Temporal Dimension:\n",
    "    1. Power Spectrum: Single snapshot; no time information.\n",
    "    2. Spectrogram: Time-varying; shows changes in frequencies over time.\n",
    "- Visualization:\n",
    "    1. Power Spectrum: 2D plot of frequency vs. power.\n",
    "    2. Spectrogram: 2D image or heatmap showing frequency, time, and power intensity.\n",
    "- Information Provided:\n",
    "    1. Power Spectrum: Only shows which frequencies are present, not when they occur.\n",
    "    2. Spectrogram: Shows when and how specific frequencies occur and change.\n",
    "- Application Context:\n",
    "    1. Power Spectrum: Useful for analyzing steady-state signals or individual frames.\n",
    "    2. Spectrogram: Essential for dynamic signals, like speech, music, and complex time-varying sounds."
   ]
  },
  {
   "cell_type": "markdown",
   "metadata": {},
   "source": [
    "-------------------------"
   ]
  },
  {
   "cell_type": "markdown",
   "metadata": {},
   "source": [
    "# Log Spectrum:\n",
    "- Summary:\n",
    "    1. The log spectrum is used because it aligns the power spectrum with human perception, compresses dynamic range, improves feature extraction, stabilizes variances, and reduces noise impacts.\n",
    "    2. This transformation is crucial for making the data more manageable, interpretable, and suitable for subsequent analysis, particularly in speech and audio processing tasks."
   ]
  },
  {
   "cell_type": "markdown",
   "metadata": {},
   "source": [
    "---------------------------"
   ]
  },
  {
   "cell_type": "markdown",
   "metadata": {},
   "source": [
    "# What happens when I apply an INVERSE FOURIER TRANSFORM TO THE LOG SPECTRUM?\n",
    "\n",
    "1. What are Formants?\n",
    "    - Formants are the resonant frequencies of the vocal tract that shape the sound produced during speech. They are the prominent frequency bands that are amplified by the vocal tract’s resonating cavities \n",
    "\n",
    "2. In the frequency domain, formants appear as peaks in the power spectrum. These peaks correspond to the resonant frequencies of the vocal tract.\n",
    "\n",
    "3. To capture formants and other spectral characteristics, the power spectrum is transformed to the Mel scale (which approximates human hearing) and then log-transformed.\n",
    "\n",
    "4. After applying the inverse transform we obtain the cepstrum; The cepstrum analysis can reveal both the harmonic structure and the spectral envelope. Peaks in the cepstrum correspond to periodic structures in the frequency domain, including harmonic components.\n",
    "    - Cepstral Domain: The cepstral domain (or quefrency domain) represents a time-like domain where periodic structures in the frequency domain are analyzed.\n",
    "    - to understand the meaning:\n",
    "        1. Harmonics: \n",
    "            1. Harmonics are integer multiples of a fundamental frequency. In the power spectrum, harmonics appear as distinct peaks at regular intervals.\n",
    "            2. When converted to the cepstral domain, these regular intervals show up as short quefrency peaks because the cepstrum captures the periodicity of these harmonics.\n",
    "        2. Spectral Envelope:\n",
    "            1. The spectral envelope represents the smooth, broad shape of the power spectrum, filtering out the fine details and focusing on the overall shape.\n",
    "            2. In the cepstrum, the spectral envelope is represented by long quefrency peaks because they capture the smooth, gradual changes in the spectrum.\n",
    "            3. in speech processing, formants (resonant frequencies of the vocal tract) are captured as long quefrency peaks. They represent the broader characteristics of the vocal tract’s spectral shaping.\n",
    "        3. to sum up:\n",
    "            1. Short Quefrency Peaks: Indicate high-frequency periodicities, where the distance between peaks (quefrency) is small, reflecting fine details or closely spaced harmonics in the frequency domain.\n",
    "            2. Long Quefrency Peaks: Indicate low-frequency periodicities, where the distance between peaks is larger, reflecting broader features or slowly varying components in the frequency domain."
   ]
  },
  {
   "cell_type": "markdown",
   "metadata": {},
   "source": [
    "Often, low filtering is used to remove the high frequencies periodicities and keep the the coefficients for the low frequencies"
   ]
  },
  {
   "cell_type": "markdown",
   "metadata": {},
   "source": [
    "--------------------------------"
   ]
  },
  {
   "cell_type": "markdown",
   "metadata": {},
   "source": [
    "Mel Spectrums are used for filtering the Log Amplitude Spectrum"
   ]
  },
  {
   "cell_type": "markdown",
   "metadata": {},
   "source": [
    "------"
   ]
  },
  {
   "cell_type": "markdown",
   "metadata": {},
   "source": [
    "# Cepstrum vs Cepstral \n",
    "1. the cepstrum is a representation of a signal obtained by taking the inverse Fourier Transform of the logarithm of the power spectrum of that signal. The output of the cepstrum is a sequence or a plot, often resembling a time-like domain called the quefrency domain, which reveals periodicities present in the frequency domain.\n",
    "    1. ### What is CEPSTRUM?\n",
    "        C(x(t))  = F^-1( log( F(x(t)) ) )\n",
    "\n",
    "        where:\n",
    "        - F is the discrete Fourier transform\n",
    "        - log is used to get the Log Spectrum\n",
    "        - F^-1 is the inverse Fourier transform\n",
    "\n",
    "        ***Basically, we are computing the Spectrum of a Spectrum***\n",
    "\n",
    "2. Cepstral refers to anything derived from or related to the cepstrum. It is an adjective describing features, coefficients, or methods that utilize cepstral analysis."
   ]
  },
  {
   "cell_type": "markdown",
   "metadata": {},
   "source": [
    "# Mel-Frequency Cepstral Coefficients MFCC\n",
    "\n",
    "### Where is used?\n",
    "    - Speech processing (recognition/identification)\n",
    "    - Music processing \n",
    "\n",
    "Steps:\n",
    "1. Waveform\n",
    "2. DFT (DISCRETE FOURIER TRANSFORM)\n",
    "3. Log-Amplitude Spectrum \n",
    "4. Mel-Scaling\n",
    "5. Discrete Cosine Transform (better than inverse DFT since it returns real valued coefficients and other reasons)\n",
    "6. Output: MFCC (the higher the coefficients the better the given cosine fits the log signal)\n",
    "\n",
    "### MFCC coefficients:\n",
    "- usually, we take the 12 or 13 first coeffieincets, since they have info about the formants and spectral envelope(for speech recognition);\n",
    "- it's possilbe to focus on the DELTA MFCC and obtain 39 coefficients;\n",
    "- it's possible to visualize the MFCC as a spectrogram over time using the idea of the frame;\n",
    "\n"
   ]
  },
  {
   "cell_type": "code",
   "execution_count": 6,
   "metadata": {},
   "outputs": [
    {
     "name": "stderr",
     "output_type": "stream",
     "text": [
      "0it [00:00, ?it/s]"
     ]
    },
    {
     "name": "stderr",
     "output_type": "stream",
     "text": [
      "8732it [06:45, 21.55it/s]\n"
     ]
    }
   ],
   "source": [
    "from tqdm import tqdm\n",
    "### Now we iterate through every audio file and extract features \n",
    "### using Mel-Frequency Cepstral Coefficients\n",
    "extracted_features=[]\n",
    "for index_num,row in tqdm(metadata.iterrows()):\n",
    "    file_name = os.path.join(os.path.abspath(audio_dataset_path),'fold'+str(row[\"fold\"])+'/',str(row[\"slice_file_name\"]))\n",
    "    final_class_labels=row[\"class\"]\n",
    "    data=features_extractor(file_name)\n",
    "    extracted_features.append([data,final_class_labels])"
   ]
  },
  {
   "cell_type": "code",
   "execution_count": 13,
   "metadata": {},
   "outputs": [
    {
     "data": {
      "text/html": [
       "<div>\n",
       "<style scoped>\n",
       "    .dataframe tbody tr th:only-of-type {\n",
       "        vertical-align: middle;\n",
       "    }\n",
       "\n",
       "    .dataframe tbody tr th {\n",
       "        vertical-align: top;\n",
       "    }\n",
       "\n",
       "    .dataframe thead th {\n",
       "        text-align: right;\n",
       "    }\n",
       "</style>\n",
       "<table border=\"1\" class=\"dataframe\">\n",
       "  <thead>\n",
       "    <tr style=\"text-align: right;\">\n",
       "      <th></th>\n",
       "      <th>feature</th>\n",
       "      <th>class</th>\n",
       "    </tr>\n",
       "  </thead>\n",
       "  <tbody>\n",
       "    <tr>\n",
       "      <th>0</th>\n",
       "      <td>[-302.21152, 69.556465, -124.388756, -50.66137...</td>\n",
       "      <td>dog_bark</td>\n",
       "    </tr>\n",
       "    <tr>\n",
       "      <th>1</th>\n",
       "      <td>[-497.49588, 108.53252, -52.183617, 60.615326,...</td>\n",
       "      <td>children_playing</td>\n",
       "    </tr>\n",
       "    <tr>\n",
       "      <th>2</th>\n",
       "      <td>[-531.8105, 120.17569, -46.226433, 51.953545, ...</td>\n",
       "      <td>children_playing</td>\n",
       "    </tr>\n",
       "    <tr>\n",
       "      <th>3</th>\n",
       "      <td>[-488.22928, 102.17729, -34.552525, 53.13046, ...</td>\n",
       "      <td>children_playing</td>\n",
       "    </tr>\n",
       "    <tr>\n",
       "      <th>4</th>\n",
       "      <td>[-519.3341, 112.80471, -52.25847, 60.23233, 2....</td>\n",
       "      <td>children_playing</td>\n",
       "    </tr>\n",
       "  </tbody>\n",
       "</table>\n",
       "</div>"
      ],
      "text/plain": [
       "                                             feature             class\n",
       "0  [-302.21152, 69.556465, -124.388756, -50.66137...          dog_bark\n",
       "1  [-497.49588, 108.53252, -52.183617, 60.615326,...  children_playing\n",
       "2  [-531.8105, 120.17569, -46.226433, 51.953545, ...  children_playing\n",
       "3  [-488.22928, 102.17729, -34.552525, 53.13046, ...  children_playing\n",
       "4  [-519.3341, 112.80471, -52.25847, 60.23233, 2....  children_playing"
      ]
     },
     "execution_count": 13,
     "metadata": {},
     "output_type": "execute_result"
    }
   ],
   "source": [
    "### converting extracted_features to Pandas dataframe\n",
    "extracted_features_df=pd.DataFrame(extracted_features,columns=['feature','class'])\n",
    "extracted_features_df.head()"
   ]
  },
  {
   "cell_type": "code",
   "execution_count": 14,
   "metadata": {},
   "outputs": [],
   "source": [
    "### Split the dataset into independent and dependent dataset\n",
    "X=np.array(extracted_features_df['feature'].tolist())\n",
    "y=np.array(extracted_features_df['class'].tolist())"
   ]
  },
  {
   "cell_type": "code",
   "execution_count": 15,
   "metadata": {},
   "outputs": [],
   "source": [
    "### Label Encoder\n",
    "from tensorflow.keras.utils import to_categorical\n",
    "from sklearn.preprocessing import LabelEncoder\n",
    "labelencoder=LabelEncoder()\n",
    "y=to_categorical(labelencoder.fit_transform(y))"
   ]
  },
  {
   "cell_type": "code",
   "execution_count": 42,
   "metadata": {},
   "outputs": [],
   "source": [
    "### Train Test Split\n",
    "from sklearn.model_selection import train_test_split\n",
    "X_train,X_test,y_train,y_test=train_test_split(X,y,test_size=0.2,random_state=42,stratify=y)"
   ]
  },
  {
   "cell_type": "markdown",
   "metadata": {},
   "source": [
    "# Model"
   ]
  },
  {
   "cell_type": "code",
   "execution_count": 43,
   "metadata": {},
   "outputs": [
    {
     "name": "stdout",
     "output_type": "stream",
     "text": [
      "2.17.0\n"
     ]
    }
   ],
   "source": [
    "import tensorflow as tf\n",
    "print(tf.__version__)"
   ]
  },
  {
   "cell_type": "code",
   "execution_count": 44,
   "metadata": {},
   "outputs": [],
   "source": [
    "### No of classes\n",
    "num_labels=y.shape[1]"
   ]
  },
  {
   "cell_type": "code",
   "execution_count": 83,
   "metadata": {},
   "outputs": [],
   "source": [
    "from tensorflow.keras.models import Sequential\n",
    "from tensorflow.keras.layers import Dense,Dropout,Activation,Flatten\n",
    "from tensorflow.keras.optimizers import Adam\n",
    "from sklearn import metrics\n",
    "\n",
    "model=Sequential()\n",
    "###first layer\n",
    "model.add(Dense(100,input_shape=(40,)))\n",
    "model.add(Activation('relu'))\n",
    "model.add(Dropout(0.2))\n",
    "###second layer\n",
    "model.add(Dense(200))\n",
    "model.add(Activation('relu'))\n",
    "model.add(Dropout(0.2))\n",
    "###third layer\n",
    "model.add(Dense(100))\n",
    "model.add(Activation('relu'))\n",
    "model.add(Dropout(0.1))\n",
    "\n",
    "###final layer\n",
    "model.add(Dense(num_labels))\n",
    "model.add(Activation('softmax'))"
   ]
  },
  {
   "cell_type": "code",
   "execution_count": 84,
   "metadata": {},
   "outputs": [
    {
     "data": {
      "text/html": [
       "<pre style=\"white-space:pre;overflow-x:auto;line-height:normal;font-family:Menlo,'DejaVu Sans Mono',consolas,'Courier New',monospace\"><span style=\"font-weight: bold\">Model: \"sequential_9\"</span>\n",
       "</pre>\n"
      ],
      "text/plain": [
       "\u001b[1mModel: \"sequential_9\"\u001b[0m\n"
      ]
     },
     "metadata": {},
     "output_type": "display_data"
    },
    {
     "data": {
      "text/html": [
       "<pre style=\"white-space:pre;overflow-x:auto;line-height:normal;font-family:Menlo,'DejaVu Sans Mono',consolas,'Courier New',monospace\">┏━━━━━━━━━━━━━━━━━━━━━━━━━━━━━━━━━┳━━━━━━━━━━━━━━━━━━━━━━━━┳━━━━━━━━━━━━━━━┓\n",
       "┃<span style=\"font-weight: bold\"> Layer (type)                    </span>┃<span style=\"font-weight: bold\"> Output Shape           </span>┃<span style=\"font-weight: bold\">       Param # </span>┃\n",
       "┡━━━━━━━━━━━━━━━━━━━━━━━━━━━━━━━━━╇━━━━━━━━━━━━━━━━━━━━━━━━╇━━━━━━━━━━━━━━━┩\n",
       "│ dense_36 (<span style=\"color: #0087ff; text-decoration-color: #0087ff\">Dense</span>)                │ (<span style=\"color: #00d7ff; text-decoration-color: #00d7ff\">None</span>, <span style=\"color: #00af00; text-decoration-color: #00af00\">100</span>)            │         <span style=\"color: #00af00; text-decoration-color: #00af00\">4,100</span> │\n",
       "├─────────────────────────────────┼────────────────────────┼───────────────┤\n",
       "│ activation_36 (<span style=\"color: #0087ff; text-decoration-color: #0087ff\">Activation</span>)      │ (<span style=\"color: #00d7ff; text-decoration-color: #00d7ff\">None</span>, <span style=\"color: #00af00; text-decoration-color: #00af00\">100</span>)            │             <span style=\"color: #00af00; text-decoration-color: #00af00\">0</span> │\n",
       "├─────────────────────────────────┼────────────────────────┼───────────────┤\n",
       "│ dropout_24 (<span style=\"color: #0087ff; text-decoration-color: #0087ff\">Dropout</span>)            │ (<span style=\"color: #00d7ff; text-decoration-color: #00d7ff\">None</span>, <span style=\"color: #00af00; text-decoration-color: #00af00\">100</span>)            │             <span style=\"color: #00af00; text-decoration-color: #00af00\">0</span> │\n",
       "├─────────────────────────────────┼────────────────────────┼───────────────┤\n",
       "│ dense_37 (<span style=\"color: #0087ff; text-decoration-color: #0087ff\">Dense</span>)                │ (<span style=\"color: #00d7ff; text-decoration-color: #00d7ff\">None</span>, <span style=\"color: #00af00; text-decoration-color: #00af00\">200</span>)            │        <span style=\"color: #00af00; text-decoration-color: #00af00\">20,200</span> │\n",
       "├─────────────────────────────────┼────────────────────────┼───────────────┤\n",
       "│ activation_37 (<span style=\"color: #0087ff; text-decoration-color: #0087ff\">Activation</span>)      │ (<span style=\"color: #00d7ff; text-decoration-color: #00d7ff\">None</span>, <span style=\"color: #00af00; text-decoration-color: #00af00\">200</span>)            │             <span style=\"color: #00af00; text-decoration-color: #00af00\">0</span> │\n",
       "├─────────────────────────────────┼────────────────────────┼───────────────┤\n",
       "│ dropout_25 (<span style=\"color: #0087ff; text-decoration-color: #0087ff\">Dropout</span>)            │ (<span style=\"color: #00d7ff; text-decoration-color: #00d7ff\">None</span>, <span style=\"color: #00af00; text-decoration-color: #00af00\">200</span>)            │             <span style=\"color: #00af00; text-decoration-color: #00af00\">0</span> │\n",
       "├─────────────────────────────────┼────────────────────────┼───────────────┤\n",
       "│ dense_38 (<span style=\"color: #0087ff; text-decoration-color: #0087ff\">Dense</span>)                │ (<span style=\"color: #00d7ff; text-decoration-color: #00d7ff\">None</span>, <span style=\"color: #00af00; text-decoration-color: #00af00\">100</span>)            │        <span style=\"color: #00af00; text-decoration-color: #00af00\">20,100</span> │\n",
       "├─────────────────────────────────┼────────────────────────┼───────────────┤\n",
       "│ activation_38 (<span style=\"color: #0087ff; text-decoration-color: #0087ff\">Activation</span>)      │ (<span style=\"color: #00d7ff; text-decoration-color: #00d7ff\">None</span>, <span style=\"color: #00af00; text-decoration-color: #00af00\">100</span>)            │             <span style=\"color: #00af00; text-decoration-color: #00af00\">0</span> │\n",
       "├─────────────────────────────────┼────────────────────────┼───────────────┤\n",
       "│ dropout_26 (<span style=\"color: #0087ff; text-decoration-color: #0087ff\">Dropout</span>)            │ (<span style=\"color: #00d7ff; text-decoration-color: #00d7ff\">None</span>, <span style=\"color: #00af00; text-decoration-color: #00af00\">100</span>)            │             <span style=\"color: #00af00; text-decoration-color: #00af00\">0</span> │\n",
       "├─────────────────────────────────┼────────────────────────┼───────────────┤\n",
       "│ dense_39 (<span style=\"color: #0087ff; text-decoration-color: #0087ff\">Dense</span>)                │ (<span style=\"color: #00d7ff; text-decoration-color: #00d7ff\">None</span>, <span style=\"color: #00af00; text-decoration-color: #00af00\">10</span>)             │         <span style=\"color: #00af00; text-decoration-color: #00af00\">1,010</span> │\n",
       "├─────────────────────────────────┼────────────────────────┼───────────────┤\n",
       "│ activation_39 (<span style=\"color: #0087ff; text-decoration-color: #0087ff\">Activation</span>)      │ (<span style=\"color: #00d7ff; text-decoration-color: #00d7ff\">None</span>, <span style=\"color: #00af00; text-decoration-color: #00af00\">10</span>)             │             <span style=\"color: #00af00; text-decoration-color: #00af00\">0</span> │\n",
       "└─────────────────────────────────┴────────────────────────┴───────────────┘\n",
       "</pre>\n"
      ],
      "text/plain": [
       "┏━━━━━━━━━━━━━━━━━━━━━━━━━━━━━━━━━┳━━━━━━━━━━━━━━━━━━━━━━━━┳━━━━━━━━━━━━━━━┓\n",
       "┃\u001b[1m \u001b[0m\u001b[1mLayer (type)                   \u001b[0m\u001b[1m \u001b[0m┃\u001b[1m \u001b[0m\u001b[1mOutput Shape          \u001b[0m\u001b[1m \u001b[0m┃\u001b[1m \u001b[0m\u001b[1m      Param #\u001b[0m\u001b[1m \u001b[0m┃\n",
       "┡━━━━━━━━━━━━━━━━━━━━━━━━━━━━━━━━━╇━━━━━━━━━━━━━━━━━━━━━━━━╇━━━━━━━━━━━━━━━┩\n",
       "│ dense_36 (\u001b[38;5;33mDense\u001b[0m)                │ (\u001b[38;5;45mNone\u001b[0m, \u001b[38;5;34m100\u001b[0m)            │         \u001b[38;5;34m4,100\u001b[0m │\n",
       "├─────────────────────────────────┼────────────────────────┼───────────────┤\n",
       "│ activation_36 (\u001b[38;5;33mActivation\u001b[0m)      │ (\u001b[38;5;45mNone\u001b[0m, \u001b[38;5;34m100\u001b[0m)            │             \u001b[38;5;34m0\u001b[0m │\n",
       "├─────────────────────────────────┼────────────────────────┼───────────────┤\n",
       "│ dropout_24 (\u001b[38;5;33mDropout\u001b[0m)            │ (\u001b[38;5;45mNone\u001b[0m, \u001b[38;5;34m100\u001b[0m)            │             \u001b[38;5;34m0\u001b[0m │\n",
       "├─────────────────────────────────┼────────────────────────┼───────────────┤\n",
       "│ dense_37 (\u001b[38;5;33mDense\u001b[0m)                │ (\u001b[38;5;45mNone\u001b[0m, \u001b[38;5;34m200\u001b[0m)            │        \u001b[38;5;34m20,200\u001b[0m │\n",
       "├─────────────────────────────────┼────────────────────────┼───────────────┤\n",
       "│ activation_37 (\u001b[38;5;33mActivation\u001b[0m)      │ (\u001b[38;5;45mNone\u001b[0m, \u001b[38;5;34m200\u001b[0m)            │             \u001b[38;5;34m0\u001b[0m │\n",
       "├─────────────────────────────────┼────────────────────────┼───────────────┤\n",
       "│ dropout_25 (\u001b[38;5;33mDropout\u001b[0m)            │ (\u001b[38;5;45mNone\u001b[0m, \u001b[38;5;34m200\u001b[0m)            │             \u001b[38;5;34m0\u001b[0m │\n",
       "├─────────────────────────────────┼────────────────────────┼───────────────┤\n",
       "│ dense_38 (\u001b[38;5;33mDense\u001b[0m)                │ (\u001b[38;5;45mNone\u001b[0m, \u001b[38;5;34m100\u001b[0m)            │        \u001b[38;5;34m20,100\u001b[0m │\n",
       "├─────────────────────────────────┼────────────────────────┼───────────────┤\n",
       "│ activation_38 (\u001b[38;5;33mActivation\u001b[0m)      │ (\u001b[38;5;45mNone\u001b[0m, \u001b[38;5;34m100\u001b[0m)            │             \u001b[38;5;34m0\u001b[0m │\n",
       "├─────────────────────────────────┼────────────────────────┼───────────────┤\n",
       "│ dropout_26 (\u001b[38;5;33mDropout\u001b[0m)            │ (\u001b[38;5;45mNone\u001b[0m, \u001b[38;5;34m100\u001b[0m)            │             \u001b[38;5;34m0\u001b[0m │\n",
       "├─────────────────────────────────┼────────────────────────┼───────────────┤\n",
       "│ dense_39 (\u001b[38;5;33mDense\u001b[0m)                │ (\u001b[38;5;45mNone\u001b[0m, \u001b[38;5;34m10\u001b[0m)             │         \u001b[38;5;34m1,010\u001b[0m │\n",
       "├─────────────────────────────────┼────────────────────────┼───────────────┤\n",
       "│ activation_39 (\u001b[38;5;33mActivation\u001b[0m)      │ (\u001b[38;5;45mNone\u001b[0m, \u001b[38;5;34m10\u001b[0m)             │             \u001b[38;5;34m0\u001b[0m │\n",
       "└─────────────────────────────────┴────────────────────────┴───────────────┘\n"
      ]
     },
     "metadata": {},
     "output_type": "display_data"
    },
    {
     "data": {
      "text/html": [
       "<pre style=\"white-space:pre;overflow-x:auto;line-height:normal;font-family:Menlo,'DejaVu Sans Mono',consolas,'Courier New',monospace\"><span style=\"font-weight: bold\"> Total params: </span><span style=\"color: #00af00; text-decoration-color: #00af00\">45,410</span> (177.38 KB)\n",
       "</pre>\n"
      ],
      "text/plain": [
       "\u001b[1m Total params: \u001b[0m\u001b[38;5;34m45,410\u001b[0m (177.38 KB)\n"
      ]
     },
     "metadata": {},
     "output_type": "display_data"
    },
    {
     "data": {
      "text/html": [
       "<pre style=\"white-space:pre;overflow-x:auto;line-height:normal;font-family:Menlo,'DejaVu Sans Mono',consolas,'Courier New',monospace\"><span style=\"font-weight: bold\"> Trainable params: </span><span style=\"color: #00af00; text-decoration-color: #00af00\">45,410</span> (177.38 KB)\n",
       "</pre>\n"
      ],
      "text/plain": [
       "\u001b[1m Trainable params: \u001b[0m\u001b[38;5;34m45,410\u001b[0m (177.38 KB)\n"
      ]
     },
     "metadata": {},
     "output_type": "display_data"
    },
    {
     "data": {
      "text/html": [
       "<pre style=\"white-space:pre;overflow-x:auto;line-height:normal;font-family:Menlo,'DejaVu Sans Mono',consolas,'Courier New',monospace\"><span style=\"font-weight: bold\"> Non-trainable params: </span><span style=\"color: #00af00; text-decoration-color: #00af00\">0</span> (0.00 B)\n",
       "</pre>\n"
      ],
      "text/plain": [
       "\u001b[1m Non-trainable params: \u001b[0m\u001b[38;5;34m0\u001b[0m (0.00 B)\n"
      ]
     },
     "metadata": {},
     "output_type": "display_data"
    }
   ],
   "source": [
    "model.summary()\n",
    "model.compile(loss='categorical_crossentropy',metrics=['accuracy'],optimizer='adam')\n"
   ]
  },
  {
   "cell_type": "code",
   "execution_count": 85,
   "metadata": {},
   "outputs": [
    {
     "name": "stdout",
     "output_type": "stream",
     "text": [
      "Epoch 1/100\n"
     ]
    },
    {
     "name": "stdout",
     "output_type": "stream",
     "text": [
      "\u001b[1m211/219\u001b[0m \u001b[32m━━━━━━━━━━━━━━━━━━━\u001b[0m\u001b[37m━\u001b[0m \u001b[1m0s\u001b[0m 959us/step - accuracy: 0.1644 - loss: 8.6329\n",
      "Epoch 1: val_loss improved from inf to 1.95268, saving model to saved_models/audio_classification.keras\n",
      "\u001b[1m219/219\u001b[0m \u001b[32m━━━━━━━━━━━━━━━━━━━━\u001b[0m\u001b[37m\u001b[0m \u001b[1m1s\u001b[0m 2ms/step - accuracy: 0.1657 - loss: 8.4574 - val_accuracy: 0.2811 - val_loss: 1.9527\n",
      "Epoch 2/100\n",
      "\u001b[1m198/219\u001b[0m \u001b[32m━━━━━━━━━━━━━━━━━━\u001b[0m\u001b[37m━━\u001b[0m \u001b[1m0s\u001b[0m 767us/step - accuracy: 0.2596 - loss: 2.0714\n",
      "Epoch 2: val_loss improved from 1.95268 to 1.72552, saving model to saved_models/audio_classification.keras\n",
      "\u001b[1m219/219\u001b[0m \u001b[32m━━━━━━━━━━━━━━━━━━━━\u001b[0m\u001b[37m\u001b[0m \u001b[1m0s\u001b[0m 944us/step - accuracy: 0.2617 - loss: 2.0634 - val_accuracy: 0.3784 - val_loss: 1.7255\n",
      "Epoch 3/100\n",
      "\u001b[1m209/219\u001b[0m \u001b[32m━━━━━━━━━━━━━━━━━━━\u001b[0m\u001b[37m━\u001b[0m \u001b[1m0s\u001b[0m 724us/step - accuracy: 0.3344 - loss: 1.8302\n",
      "Epoch 3: val_loss improved from 1.72552 to 1.57011, saving model to saved_models/audio_classification.keras\n",
      "\u001b[1m219/219\u001b[0m \u001b[32m━━━━━━━━━━━━━━━━━━━━\u001b[0m\u001b[37m\u001b[0m \u001b[1m0s\u001b[0m 1ms/step - accuracy: 0.3348 - loss: 1.8288 - val_accuracy: 0.4453 - val_loss: 1.5701\n",
      "Epoch 4/100\n",
      "\u001b[1m147/219\u001b[0m \u001b[32m━━━━━━━━━━━━━\u001b[0m\u001b[37m━━━━━━━\u001b[0m \u001b[1m0s\u001b[0m 686us/step - accuracy: 0.3873 - loss: 1.6731\n",
      "Epoch 4: val_loss improved from 1.57011 to 1.36397, saving model to saved_models/audio_classification.keras\n",
      "\u001b[1m219/219\u001b[0m \u001b[32m━━━━━━━━━━━━━━━━━━━━\u001b[0m\u001b[37m\u001b[0m \u001b[1m0s\u001b[0m 869us/step - accuracy: 0.3940 - loss: 1.6609 - val_accuracy: 0.5318 - val_loss: 1.3640\n",
      "Epoch 5/100\n",
      "\u001b[1m146/219\u001b[0m \u001b[32m━━━━━━━━━━━━━\u001b[0m\u001b[37m━━━━━━━\u001b[0m \u001b[1m0s\u001b[0m 693us/step - accuracy: 0.4517 - loss: 1.5749\n",
      "Epoch 5: val_loss improved from 1.36397 to 1.24728, saving model to saved_models/audio_classification.keras\n",
      "\u001b[1m219/219\u001b[0m \u001b[32m━━━━━━━━━━━━━━━━━━━━\u001b[0m\u001b[37m\u001b[0m \u001b[1m0s\u001b[0m 860us/step - accuracy: 0.4539 - loss: 1.5593 - val_accuracy: 0.5913 - val_loss: 1.2473\n",
      "Epoch 6/100\n",
      "\u001b[1m149/219\u001b[0m \u001b[32m━━━━━━━━━━━━━\u001b[0m\u001b[37m━━━━━━━\u001b[0m \u001b[1m0s\u001b[0m 676us/step - accuracy: 0.5188 - loss: 1.3842\n",
      "Epoch 6: val_loss improved from 1.24728 to 1.13910, saving model to saved_models/audio_classification.keras\n",
      "\u001b[1m219/219\u001b[0m \u001b[32m━━━━━━━━━━━━━━━━━━━━\u001b[0m\u001b[37m\u001b[0m \u001b[1m0s\u001b[0m 856us/step - accuracy: 0.5168 - loss: 1.3831 - val_accuracy: 0.6291 - val_loss: 1.1391\n",
      "Epoch 7/100\n",
      "\u001b[1m150/219\u001b[0m \u001b[32m━━━━━━━━━━━━━\u001b[0m\u001b[37m━━━━━━━\u001b[0m \u001b[1m0s\u001b[0m 676us/step - accuracy: 0.5495 - loss: 1.2653\n",
      "Epoch 7: val_loss improved from 1.13910 to 1.06393, saving model to saved_models/audio_classification.keras\n",
      "\u001b[1m219/219\u001b[0m \u001b[32m━━━━━━━━━━━━━━━━━━━━\u001b[0m\u001b[37m\u001b[0m \u001b[1m0s\u001b[0m 860us/step - accuracy: 0.5537 - loss: 1.2617 - val_accuracy: 0.6480 - val_loss: 1.0639\n",
      "Epoch 8/100\n",
      "\u001b[1m153/219\u001b[0m \u001b[32m━━━━━━━━━━━━━\u001b[0m\u001b[37m━━━━━━━\u001b[0m \u001b[1m0s\u001b[0m 665us/step - accuracy: 0.5862 - loss: 1.1734\n",
      "Epoch 8: val_loss improved from 1.06393 to 0.96408, saving model to saved_models/audio_classification.keras\n",
      "\u001b[1m219/219\u001b[0m \u001b[32m━━━━━━━━━━━━━━━━━━━━\u001b[0m\u001b[37m\u001b[0m \u001b[1m0s\u001b[0m 852us/step - accuracy: 0.5904 - loss: 1.1683 - val_accuracy: 0.6726 - val_loss: 0.9641\n",
      "Epoch 9/100\n",
      "\u001b[1m151/219\u001b[0m \u001b[32m━━━━━━━━━━━━━\u001b[0m\u001b[37m━━━━━━━\u001b[0m \u001b[1m0s\u001b[0m 671us/step - accuracy: 0.6146 - loss: 1.1296\n",
      "Epoch 9: val_loss improved from 0.96408 to 0.89526, saving model to saved_models/audio_classification.keras\n",
      "\u001b[1m219/219\u001b[0m \u001b[32m━━━━━━━━━━━━━━━━━━━━\u001b[0m\u001b[37m\u001b[0m \u001b[1m0s\u001b[0m 854us/step - accuracy: 0.6172 - loss: 1.1231 - val_accuracy: 0.6966 - val_loss: 0.8953\n",
      "Epoch 10/100\n",
      "\u001b[1m149/219\u001b[0m \u001b[32m━━━━━━━━━━━━━\u001b[0m\u001b[37m━━━━━━━\u001b[0m \u001b[1m0s\u001b[0m 681us/step - accuracy: 0.6428 - loss: 1.0248\n",
      "Epoch 10: val_loss improved from 0.89526 to 0.83415, saving model to saved_models/audio_classification.keras\n",
      "\u001b[1m219/219\u001b[0m \u001b[32m━━━━━━━━━━━━━━━━━━━━\u001b[0m\u001b[37m\u001b[0m \u001b[1m0s\u001b[0m 848us/step - accuracy: 0.6429 - loss: 1.0260 - val_accuracy: 0.7396 - val_loss: 0.8341\n",
      "Epoch 11/100\n",
      "\u001b[1m156/219\u001b[0m \u001b[32m━━━━━━━━━━━━━━\u001b[0m\u001b[37m━━━━━━\u001b[0m \u001b[1m0s\u001b[0m 652us/step - accuracy: 0.6558 - loss: 0.9801\n",
      "Epoch 11: val_loss improved from 0.83415 to 0.77722, saving model to saved_models/audio_classification.keras\n",
      "\u001b[1m219/219\u001b[0m \u001b[32m━━━━━━━━━━━━━━━━━━━━\u001b[0m\u001b[37m\u001b[0m \u001b[1m0s\u001b[0m 823us/step - accuracy: 0.6590 - loss: 0.9755 - val_accuracy: 0.7447 - val_loss: 0.7772\n",
      "Epoch 12/100\n",
      "\u001b[1m156/219\u001b[0m \u001b[32m━━━━━━━━━━━━━━\u001b[0m\u001b[37m━━━━━━\u001b[0m \u001b[1m0s\u001b[0m 650us/step - accuracy: 0.6834 - loss: 0.9145\n",
      "Epoch 12: val_loss improved from 0.77722 to 0.76868, saving model to saved_models/audio_classification.keras\n",
      "\u001b[1m219/219\u001b[0m \u001b[32m━━━━━━━━━━━━━━━━━━━━\u001b[0m\u001b[37m\u001b[0m \u001b[1m0s\u001b[0m 830us/step - accuracy: 0.6843 - loss: 0.9163 - val_accuracy: 0.7441 - val_loss: 0.7687\n",
      "Epoch 13/100\n",
      "\u001b[1m149/219\u001b[0m \u001b[32m━━━━━━━━━━━━━\u001b[0m\u001b[37m━━━━━━━\u001b[0m \u001b[1m0s\u001b[0m 682us/step - accuracy: 0.7040 - loss: 0.8739\n",
      "Epoch 13: val_loss improved from 0.76868 to 0.71078, saving model to saved_models/audio_classification.keras\n",
      "\u001b[1m219/219\u001b[0m \u001b[32m━━━━━━━━━━━━━━━━━━━━\u001b[0m\u001b[37m\u001b[0m \u001b[1m0s\u001b[0m 856us/step - accuracy: 0.7023 - loss: 0.8782 - val_accuracy: 0.7613 - val_loss: 0.7108\n",
      "Epoch 14/100\n",
      "\u001b[1m156/219\u001b[0m \u001b[32m━━━━━━━━━━━━━━\u001b[0m\u001b[37m━━━━━━\u001b[0m \u001b[1m0s\u001b[0m 650us/step - accuracy: 0.7201 - loss: 0.8309\n",
      "Epoch 14: val_loss improved from 0.71078 to 0.67551, saving model to saved_models/audio_classification.keras\n",
      "\u001b[1m219/219\u001b[0m \u001b[32m━━━━━━━━━━━━━━━━━━━━\u001b[0m\u001b[37m\u001b[0m \u001b[1m0s\u001b[0m 825us/step - accuracy: 0.7183 - loss: 0.8308 - val_accuracy: 0.7802 - val_loss: 0.6755\n",
      "Epoch 15/100\n",
      "\u001b[1m143/219\u001b[0m \u001b[32m━━━━━━━━━━━━━\u001b[0m\u001b[37m━━━━━━━\u001b[0m \u001b[1m0s\u001b[0m 708us/step - accuracy: 0.7190 - loss: 0.8253\n",
      "Epoch 15: val_loss improved from 0.67551 to 0.63697, saving model to saved_models/audio_classification.keras\n",
      "\u001b[1m219/219\u001b[0m \u001b[32m━━━━━━━━━━━━━━━━━━━━\u001b[0m\u001b[37m\u001b[0m \u001b[1m0s\u001b[0m 861us/step - accuracy: 0.7214 - loss: 0.8194 - val_accuracy: 0.7928 - val_loss: 0.6370\n",
      "Epoch 16/100\n",
      "\u001b[1m162/219\u001b[0m \u001b[32m━━━━━━━━━━━━━━\u001b[0m\u001b[37m━━━━━━\u001b[0m \u001b[1m0s\u001b[0m 626us/step - accuracy: 0.7372 - loss: 0.7804\n",
      "Epoch 16: val_loss did not improve from 0.63697\n",
      "\u001b[1m219/219\u001b[0m \u001b[32m━━━━━━━━━━━━━━━━━━━━\u001b[0m\u001b[37m\u001b[0m \u001b[1m0s\u001b[0m 750us/step - accuracy: 0.7380 - loss: 0.7779 - val_accuracy: 0.7848 - val_loss: 0.6408\n",
      "Epoch 17/100\n",
      "\u001b[1m157/219\u001b[0m \u001b[32m━━━━━━━━━━━━━━\u001b[0m\u001b[37m━━━━━━\u001b[0m \u001b[1m0s\u001b[0m 647us/step - accuracy: 0.7366 - loss: 0.7555\n",
      "Epoch 17: val_loss improved from 0.63697 to 0.60764, saving model to saved_models/audio_classification.keras\n",
      "\u001b[1m219/219\u001b[0m \u001b[32m━━━━━━━━━━━━━━━━━━━━\u001b[0m\u001b[37m\u001b[0m \u001b[1m0s\u001b[0m 828us/step - accuracy: 0.7400 - loss: 0.7490 - val_accuracy: 0.7997 - val_loss: 0.6076\n",
      "Epoch 18/100\n",
      "\u001b[1m156/219\u001b[0m \u001b[32m━━━━━━━━━━━━━━\u001b[0m\u001b[37m━━━━━━\u001b[0m \u001b[1m0s\u001b[0m 651us/step - accuracy: 0.7581 - loss: 0.7158\n",
      "Epoch 18: val_loss did not improve from 0.60764\n",
      "\u001b[1m219/219\u001b[0m \u001b[32m━━━━━━━━━━━━━━━━━━━━\u001b[0m\u001b[37m\u001b[0m \u001b[1m0s\u001b[0m 773us/step - accuracy: 0.7580 - loss: 0.7175 - val_accuracy: 0.7968 - val_loss: 0.6206\n",
      "Epoch 19/100\n",
      "\u001b[1m158/219\u001b[0m \u001b[32m━━━━━━━━━━━━━━\u001b[0m\u001b[37m━━━━━━\u001b[0m \u001b[1m0s\u001b[0m 644us/step - accuracy: 0.7754 - loss: 0.6539\n",
      "Epoch 19: val_loss improved from 0.60764 to 0.58478, saving model to saved_models/audio_classification.keras\n",
      "\u001b[1m219/219\u001b[0m \u001b[32m━━━━━━━━━━━━━━━━━━━━\u001b[0m\u001b[37m\u001b[0m \u001b[1m0s\u001b[0m 818us/step - accuracy: 0.7734 - loss: 0.6586 - val_accuracy: 0.8157 - val_loss: 0.5848\n",
      "Epoch 20/100\n",
      "\u001b[1m149/219\u001b[0m \u001b[32m━━━━━━━━━━━━━\u001b[0m\u001b[37m━━━━━━━\u001b[0m \u001b[1m0s\u001b[0m 678us/step - accuracy: 0.7670 - loss: 0.6607\n",
      "Epoch 20: val_loss improved from 0.58478 to 0.52648, saving model to saved_models/audio_classification.keras\n",
      "\u001b[1m219/219\u001b[0m \u001b[32m━━━━━━━━━━━━━━━━━━━━\u001b[0m\u001b[37m\u001b[0m \u001b[1m0s\u001b[0m 848us/step - accuracy: 0.7667 - loss: 0.6651 - val_accuracy: 0.8214 - val_loss: 0.5265\n",
      "Epoch 21/100\n",
      "\u001b[1m156/219\u001b[0m \u001b[32m━━━━━━━━━━━━━━\u001b[0m\u001b[37m━━━━━━\u001b[0m \u001b[1m0s\u001b[0m 648us/step - accuracy: 0.7933 - loss: 0.5919\n",
      "Epoch 21: val_loss did not improve from 0.52648\n",
      "\u001b[1m219/219\u001b[0m \u001b[32m━━━━━━━━━━━━━━━━━━━━\u001b[0m\u001b[37m\u001b[0m \u001b[1m0s\u001b[0m 772us/step - accuracy: 0.7906 - loss: 0.6030 - val_accuracy: 0.8231 - val_loss: 0.5359\n",
      "Epoch 22/100\n",
      "\u001b[1m150/219\u001b[0m \u001b[32m━━━━━━━━━━━━━\u001b[0m\u001b[37m━━━━━━━\u001b[0m \u001b[1m0s\u001b[0m 678us/step - accuracy: 0.7920 - loss: 0.6159\n",
      "Epoch 22: val_loss improved from 0.52648 to 0.50562, saving model to saved_models/audio_classification.keras\n",
      "\u001b[1m219/219\u001b[0m \u001b[32m━━━━━━━━━━━━━━━━━━━━\u001b[0m\u001b[37m\u001b[0m \u001b[1m0s\u001b[0m 851us/step - accuracy: 0.7883 - loss: 0.6238 - val_accuracy: 0.8357 - val_loss: 0.5056\n",
      "Epoch 23/100\n",
      "\u001b[1m151/219\u001b[0m \u001b[32m━━━━━━━━━━━━━\u001b[0m\u001b[37m━━━━━━━\u001b[0m \u001b[1m0s\u001b[0m 671us/step - accuracy: 0.7885 - loss: 0.6194\n",
      "Epoch 23: val_loss did not improve from 0.50562\n",
      "\u001b[1m219/219\u001b[0m \u001b[32m━━━━━━━━━━━━━━━━━━━━\u001b[0m\u001b[37m\u001b[0m \u001b[1m0s\u001b[0m 795us/step - accuracy: 0.7889 - loss: 0.6115 - val_accuracy: 0.8283 - val_loss: 0.5128\n",
      "Epoch 24/100\n",
      "\u001b[1m206/219\u001b[0m \u001b[32m━━━━━━━━━━━━━━━━━━\u001b[0m\u001b[37m━━\u001b[0m \u001b[1m0s\u001b[0m 746us/step - accuracy: 0.7922 - loss: 0.6018\n",
      "Epoch 24: val_loss improved from 0.50562 to 0.48598, saving model to saved_models/audio_classification.keras\n",
      "\u001b[1m219/219\u001b[0m \u001b[32m━━━━━━━━━━━━━━━━━━━━\u001b[0m\u001b[37m\u001b[0m \u001b[1m0s\u001b[0m 914us/step - accuracy: 0.7925 - loss: 0.6011 - val_accuracy: 0.8392 - val_loss: 0.4860\n",
      "Epoch 25/100\n",
      "\u001b[1m154/219\u001b[0m \u001b[32m━━━━━━━━━━━━━━\u001b[0m\u001b[37m━━━━━━\u001b[0m \u001b[1m0s\u001b[0m 658us/step - accuracy: 0.8008 - loss: 0.5629\n",
      "Epoch 25: val_loss did not improve from 0.48598\n",
      "\u001b[1m219/219\u001b[0m \u001b[32m━━━━━━━━━━━━━━━━━━━━\u001b[0m\u001b[37m\u001b[0m \u001b[1m0s\u001b[0m 782us/step - accuracy: 0.8004 - loss: 0.5658 - val_accuracy: 0.8374 - val_loss: 0.5079\n",
      "Epoch 26/100\n",
      "\u001b[1m156/219\u001b[0m \u001b[32m━━━━━━━━━━━━━━\u001b[0m\u001b[37m━━━━━━\u001b[0m \u001b[1m0s\u001b[0m 649us/step - accuracy: 0.7984 - loss: 0.5630\n",
      "Epoch 26: val_loss did not improve from 0.48598\n",
      "\u001b[1m219/219\u001b[0m \u001b[32m━━━━━━━━━━━━━━━━━━━━\u001b[0m\u001b[37m\u001b[0m \u001b[1m0s\u001b[0m 774us/step - accuracy: 0.8014 - loss: 0.5633 - val_accuracy: 0.8374 - val_loss: 0.4964\n",
      "Epoch 27/100\n",
      "\u001b[1m154/219\u001b[0m \u001b[32m━━━━━━━━━━━━━━\u001b[0m\u001b[37m━━━━━━\u001b[0m \u001b[1m0s\u001b[0m 657us/step - accuracy: 0.8142 - loss: 0.5400\n",
      "Epoch 27: val_loss improved from 0.48598 to 0.47064, saving model to saved_models/audio_classification.keras\n",
      "\u001b[1m219/219\u001b[0m \u001b[32m━━━━━━━━━━━━━━━━━━━━\u001b[0m\u001b[37m\u001b[0m \u001b[1m0s\u001b[0m 838us/step - accuracy: 0.8139 - loss: 0.5429 - val_accuracy: 0.8472 - val_loss: 0.4706\n",
      "Epoch 28/100\n",
      "\u001b[1m154/219\u001b[0m \u001b[32m━━━━━━━━━━━━━━\u001b[0m\u001b[37m━━━━━━\u001b[0m \u001b[1m0s\u001b[0m 657us/step - accuracy: 0.8130 - loss: 0.5421\n",
      "Epoch 28: val_loss did not improve from 0.47064\n",
      "\u001b[1m219/219\u001b[0m \u001b[32m━━━━━━━━━━━━━━━━━━━━\u001b[0m\u001b[37m\u001b[0m \u001b[1m0s\u001b[0m 781us/step - accuracy: 0.8123 - loss: 0.5423 - val_accuracy: 0.8414 - val_loss: 0.4776\n",
      "Epoch 29/100\n",
      "\u001b[1m159/219\u001b[0m \u001b[32m━━━━━━━━━━━━━━\u001b[0m\u001b[37m━━━━━━\u001b[0m \u001b[1m0s\u001b[0m 637us/step - accuracy: 0.8182 - loss: 0.5182\n",
      "Epoch 29: val_loss improved from 0.47064 to 0.44279, saving model to saved_models/audio_classification.keras\n",
      "\u001b[1m219/219\u001b[0m \u001b[32m━━━━━━━━━━━━━━━━━━━━\u001b[0m\u001b[37m\u001b[0m \u001b[1m0s\u001b[0m 812us/step - accuracy: 0.8206 - loss: 0.5145 - val_accuracy: 0.8586 - val_loss: 0.4428\n",
      "Epoch 30/100\n",
      "\u001b[1m160/219\u001b[0m \u001b[32m━━━━━━━━━━━━━━\u001b[0m\u001b[37m━━━━━━\u001b[0m \u001b[1m0s\u001b[0m 633us/step - accuracy: 0.8255 - loss: 0.5180\n",
      "Epoch 30: val_loss did not improve from 0.44279\n",
      "\u001b[1m219/219\u001b[0m \u001b[32m━━━━━━━━━━━━━━━━━━━━\u001b[0m\u001b[37m\u001b[0m \u001b[1m0s\u001b[0m 760us/step - accuracy: 0.8254 - loss: 0.5165 - val_accuracy: 0.8472 - val_loss: 0.4535\n",
      "Epoch 31/100\n",
      "\u001b[1m153/219\u001b[0m \u001b[32m━━━━━━━━━━━━━\u001b[0m\u001b[37m━━━━━━━\u001b[0m \u001b[1m0s\u001b[0m 660us/step - accuracy: 0.8164 - loss: 0.5008\n",
      "Epoch 31: val_loss improved from 0.44279 to 0.44272, saving model to saved_models/audio_classification.keras\n",
      "\u001b[1m219/219\u001b[0m \u001b[32m━━━━━━━━━━━━━━━━━━━━\u001b[0m\u001b[37m\u001b[0m \u001b[1m0s\u001b[0m 834us/step - accuracy: 0.8178 - loss: 0.5006 - val_accuracy: 0.8558 - val_loss: 0.4427\n",
      "Epoch 32/100\n",
      "\u001b[1m217/219\u001b[0m \u001b[32m━━━━━━━━━━━━━━━━━━━\u001b[0m\u001b[37m━\u001b[0m \u001b[1m0s\u001b[0m 697us/step - accuracy: 0.8449 - loss: 0.4657\n",
      "Epoch 32: val_loss did not improve from 0.44272\n",
      "\u001b[1m219/219\u001b[0m \u001b[32m━━━━━━━━━━━━━━━━━━━━\u001b[0m\u001b[37m\u001b[0m \u001b[1m0s\u001b[0m 825us/step - accuracy: 0.8448 - loss: 0.4660 - val_accuracy: 0.8586 - val_loss: 0.4549\n",
      "Epoch 33/100\n",
      "\u001b[1m187/219\u001b[0m \u001b[32m━━━━━━━━━━━━━━━━━\u001b[0m\u001b[37m━━━\u001b[0m \u001b[1m0s\u001b[0m 812us/step - accuracy: 0.8345 - loss: 0.4929\n",
      "Epoch 33: val_loss improved from 0.44272 to 0.44140, saving model to saved_models/audio_classification.keras\n",
      "\u001b[1m219/219\u001b[0m \u001b[32m━━━━━━━━━━━━━━━━━━━━\u001b[0m\u001b[37m\u001b[0m \u001b[1m0s\u001b[0m 983us/step - accuracy: 0.8353 - loss: 0.4905 - val_accuracy: 0.8586 - val_loss: 0.4414\n",
      "Epoch 34/100\n",
      "\u001b[1m146/219\u001b[0m \u001b[32m━━━━━━━━━━━━━\u001b[0m\u001b[37m━━━━━━━\u001b[0m \u001b[1m0s\u001b[0m 694us/step - accuracy: 0.8375 - loss: 0.4660\n",
      "Epoch 34: val_loss improved from 0.44140 to 0.42794, saving model to saved_models/audio_classification.keras\n",
      "\u001b[1m219/219\u001b[0m \u001b[32m━━━━━━━━━━━━━━━━━━━━\u001b[0m\u001b[37m\u001b[0m \u001b[1m0s\u001b[0m 869us/step - accuracy: 0.8345 - loss: 0.4725 - val_accuracy: 0.8655 - val_loss: 0.4279\n",
      "Epoch 35/100\n",
      "\u001b[1m147/219\u001b[0m \u001b[32m━━━━━━━━━━━━━\u001b[0m\u001b[37m━━━━━━━\u001b[0m \u001b[1m0s\u001b[0m 690us/step - accuracy: 0.8378 - loss: 0.4596\n",
      "Epoch 35: val_loss improved from 0.42794 to 0.41735, saving model to saved_models/audio_classification.keras\n",
      "\u001b[1m219/219\u001b[0m \u001b[32m━━━━━━━━━━━━━━━━━━━━\u001b[0m\u001b[37m\u001b[0m \u001b[1m0s\u001b[0m 869us/step - accuracy: 0.8382 - loss: 0.4620 - val_accuracy: 0.8580 - val_loss: 0.4174\n",
      "Epoch 36/100\n",
      "\u001b[1m156/219\u001b[0m \u001b[32m━━━━━━━━━━━━━━\u001b[0m\u001b[37m━━━━━━\u001b[0m \u001b[1m0s\u001b[0m 650us/step - accuracy: 0.8347 - loss: 0.4727\n",
      "Epoch 36: val_loss improved from 0.41735 to 0.41635, saving model to saved_models/audio_classification.keras\n",
      "\u001b[1m219/219\u001b[0m \u001b[32m━━━━━━━━━━━━━━━━━━━━\u001b[0m\u001b[37m\u001b[0m \u001b[1m0s\u001b[0m 834us/step - accuracy: 0.8355 - loss: 0.4734 - val_accuracy: 0.8695 - val_loss: 0.4163\n",
      "Epoch 37/100\n",
      "\u001b[1m158/219\u001b[0m \u001b[32m━━━━━━━━━━━━━━\u001b[0m\u001b[37m━━━━━━\u001b[0m \u001b[1m0s\u001b[0m 640us/step - accuracy: 0.8470 - loss: 0.4550\n",
      "Epoch 37: val_loss did not improve from 0.41635\n",
      "\u001b[1m219/219\u001b[0m \u001b[32m━━━━━━━━━━━━━━━━━━━━\u001b[0m\u001b[37m\u001b[0m \u001b[1m0s\u001b[0m 765us/step - accuracy: 0.8466 - loss: 0.4540 - val_accuracy: 0.8638 - val_loss: 0.4194\n",
      "Epoch 38/100\n",
      "\u001b[1m152/219\u001b[0m \u001b[32m━━━━━━━━━━━━━\u001b[0m\u001b[37m━━━━━━━\u001b[0m \u001b[1m0s\u001b[0m 667us/step - accuracy: 0.8539 - loss: 0.4225\n",
      "Epoch 38: val_loss did not improve from 0.41635\n",
      "\u001b[1m219/219\u001b[0m \u001b[32m━━━━━━━━━━━━━━━━━━━━\u001b[0m\u001b[37m\u001b[0m \u001b[1m0s\u001b[0m 789us/step - accuracy: 0.8533 - loss: 0.4253 - val_accuracy: 0.8649 - val_loss: 0.4236\n",
      "Epoch 39/100\n",
      "\u001b[1m151/219\u001b[0m \u001b[32m━━━━━━━━━━━━━\u001b[0m\u001b[37m━━━━━━━\u001b[0m \u001b[1m0s\u001b[0m 670us/step - accuracy: 0.8532 - loss: 0.4300\n",
      "Epoch 39: val_loss did not improve from 0.41635\n",
      "\u001b[1m219/219\u001b[0m \u001b[32m━━━━━━━━━━━━━━━━━━━━\u001b[0m\u001b[37m\u001b[0m \u001b[1m0s\u001b[0m 792us/step - accuracy: 0.8515 - loss: 0.4315 - val_accuracy: 0.8655 - val_loss: 0.4272\n",
      "Epoch 40/100\n",
      "\u001b[1m160/219\u001b[0m \u001b[32m━━━━━━━━━━━━━━\u001b[0m\u001b[37m━━━━━━\u001b[0m \u001b[1m0s\u001b[0m 635us/step - accuracy: 0.8432 - loss: 0.4458\n",
      "Epoch 40: val_loss did not improve from 0.41635\n",
      "\u001b[1m219/219\u001b[0m \u001b[32m━━━━━━━━━━━━━━━━━━━━\u001b[0m\u001b[37m\u001b[0m \u001b[1m0s\u001b[0m 757us/step - accuracy: 0.8432 - loss: 0.4470 - val_accuracy: 0.8758 - val_loss: 0.4275\n",
      "Epoch 41/100\n",
      "\u001b[1m201/219\u001b[0m \u001b[32m━━━━━━━━━━━━━━━━━━\u001b[0m\u001b[37m━━\u001b[0m \u001b[1m0s\u001b[0m 754us/step - accuracy: 0.8566 - loss: 0.4096\n",
      "Epoch 41: val_loss did not improve from 0.41635\n",
      "\u001b[1m219/219\u001b[0m \u001b[32m━━━━━━━━━━━━━━━━━━━━\u001b[0m\u001b[37m\u001b[0m \u001b[1m0s\u001b[0m 873us/step - accuracy: 0.8560 - loss: 0.4114 - val_accuracy: 0.8741 - val_loss: 0.4386\n",
      "Epoch 42/100\n",
      "\u001b[1m161/219\u001b[0m \u001b[32m━━━━━━━━━━━━━━\u001b[0m\u001b[37m━━━━━━\u001b[0m \u001b[1m0s\u001b[0m 632us/step - accuracy: 0.8545 - loss: 0.4017\n",
      "Epoch 42: val_loss improved from 0.41635 to 0.40366, saving model to saved_models/audio_classification.keras\n",
      "\u001b[1m219/219\u001b[0m \u001b[32m━━━━━━━━━━━━━━━━━━━━\u001b[0m\u001b[37m\u001b[0m \u001b[1m0s\u001b[0m 802us/step - accuracy: 0.8528 - loss: 0.4086 - val_accuracy: 0.8867 - val_loss: 0.4037\n",
      "Epoch 43/100\n",
      "\u001b[1m154/219\u001b[0m \u001b[32m━━━━━━━━━━━━━━\u001b[0m\u001b[37m━━━━━━\u001b[0m \u001b[1m0s\u001b[0m 660us/step - accuracy: 0.8580 - loss: 0.4126\n",
      "Epoch 43: val_loss did not improve from 0.40366\n",
      "\u001b[1m219/219\u001b[0m \u001b[32m━━━━━━━━━━━━━━━━━━━━\u001b[0m\u001b[37m\u001b[0m \u001b[1m0s\u001b[0m 774us/step - accuracy: 0.8592 - loss: 0.4115 - val_accuracy: 0.8758 - val_loss: 0.4045\n",
      "Epoch 44/100\n",
      "\u001b[1m160/219\u001b[0m \u001b[32m━━━━━━━━━━━━━━\u001b[0m\u001b[37m━━━━━━\u001b[0m \u001b[1m0s\u001b[0m 631us/step - accuracy: 0.8520 - loss: 0.4132\n",
      "Epoch 44: val_loss did not improve from 0.40366\n",
      "\u001b[1m219/219\u001b[0m \u001b[32m━━━━━━━━━━━━━━━━━━━━\u001b[0m\u001b[37m\u001b[0m \u001b[1m0s\u001b[0m 759us/step - accuracy: 0.8526 - loss: 0.4119 - val_accuracy: 0.8655 - val_loss: 0.4261\n",
      "Epoch 45/100\n",
      "\u001b[1m159/219\u001b[0m \u001b[32m━━━━━━━━━━━━━━\u001b[0m\u001b[37m━━━━━━\u001b[0m \u001b[1m0s\u001b[0m 635us/step - accuracy: 0.8637 - loss: 0.3830\n",
      "Epoch 45: val_loss did not improve from 0.40366\n",
      "\u001b[1m219/219\u001b[0m \u001b[32m━━━━━━━━━━━━━━━━━━━━\u001b[0m\u001b[37m\u001b[0m \u001b[1m0s\u001b[0m 757us/step - accuracy: 0.8648 - loss: 0.3826 - val_accuracy: 0.8724 - val_loss: 0.4179\n",
      "Epoch 46/100\n",
      "\u001b[1m151/219\u001b[0m \u001b[32m━━━━━━━━━━━━━\u001b[0m\u001b[37m━━━━━━━\u001b[0m \u001b[1m0s\u001b[0m 671us/step - accuracy: 0.8683 - loss: 0.4037\n",
      "Epoch 46: val_loss improved from 0.40366 to 0.40160, saving model to saved_models/audio_classification.keras\n",
      "\u001b[1m219/219\u001b[0m \u001b[32m━━━━━━━━━━━━━━━━━━━━\u001b[0m\u001b[37m\u001b[0m \u001b[1m0s\u001b[0m 854us/step - accuracy: 0.8667 - loss: 0.4015 - val_accuracy: 0.8752 - val_loss: 0.4016\n",
      "Epoch 47/100\n",
      "\u001b[1m158/219\u001b[0m \u001b[32m━━━━━━━━━━━━━━\u001b[0m\u001b[37m━━━━━━\u001b[0m \u001b[1m0s\u001b[0m 641us/step - accuracy: 0.8612 - loss: 0.4028\n",
      "Epoch 47: val_loss did not improve from 0.40160\n",
      "\u001b[1m219/219\u001b[0m \u001b[32m━━━━━━━━━━━━━━━━━━━━\u001b[0m\u001b[37m\u001b[0m \u001b[1m0s\u001b[0m 766us/step - accuracy: 0.8617 - loss: 0.4017 - val_accuracy: 0.8804 - val_loss: 0.4066\n",
      "Epoch 48/100\n",
      "\u001b[1m161/219\u001b[0m \u001b[32m━━━━━━━━━━━━━━\u001b[0m\u001b[37m━━━━━━\u001b[0m \u001b[1m0s\u001b[0m 632us/step - accuracy: 0.8586 - loss: 0.3999\n",
      "Epoch 48: val_loss did not improve from 0.40160\n",
      "\u001b[1m219/219\u001b[0m \u001b[32m━━━━━━━━━━━━━━━━━━━━\u001b[0m\u001b[37m\u001b[0m \u001b[1m0s\u001b[0m 756us/step - accuracy: 0.8610 - loss: 0.3933 - val_accuracy: 0.8775 - val_loss: 0.4191\n",
      "Epoch 49/100\n",
      "\u001b[1m150/219\u001b[0m \u001b[32m━━━━━━━━━━━━━\u001b[0m\u001b[37m━━━━━━━\u001b[0m \u001b[1m0s\u001b[0m 675us/step - accuracy: 0.8618 - loss: 0.3837\n",
      "Epoch 49: val_loss did not improve from 0.40160\n",
      "\u001b[1m219/219\u001b[0m \u001b[32m━━━━━━━━━━━━━━━━━━━━\u001b[0m\u001b[37m\u001b[0m \u001b[1m0s\u001b[0m 804us/step - accuracy: 0.8639 - loss: 0.3816 - val_accuracy: 0.8781 - val_loss: 0.4110\n",
      "Epoch 50/100\n",
      "\u001b[1m193/219\u001b[0m \u001b[32m━━━━━━━━━━━━━━━━━\u001b[0m\u001b[37m━━━\u001b[0m \u001b[1m0s\u001b[0m 788us/step - accuracy: 0.8615 - loss: 0.3702\n",
      "Epoch 50: val_loss improved from 0.40160 to 0.39439, saving model to saved_models/audio_classification.keras\n",
      "\u001b[1m219/219\u001b[0m \u001b[32m━━━━━━━━━━━━━━━━━━━━\u001b[0m\u001b[37m\u001b[0m \u001b[1m0s\u001b[0m 950us/step - accuracy: 0.8621 - loss: 0.3707 - val_accuracy: 0.8861 - val_loss: 0.3944\n",
      "Epoch 51/100\n",
      "\u001b[1m161/219\u001b[0m \u001b[32m━━━━━━━━━━━━━━\u001b[0m\u001b[37m━━━━━━\u001b[0m \u001b[1m0s\u001b[0m 631us/step - accuracy: 0.8648 - loss: 0.3765\n",
      "Epoch 51: val_loss did not improve from 0.39439\n",
      "\u001b[1m219/219\u001b[0m \u001b[32m━━━━━━━━━━━━━━━━━━━━\u001b[0m\u001b[37m\u001b[0m \u001b[1m0s\u001b[0m 755us/step - accuracy: 0.8661 - loss: 0.3757 - val_accuracy: 0.8912 - val_loss: 0.3950\n",
      "Epoch 52/100\n",
      "\u001b[1m160/219\u001b[0m \u001b[32m━━━━━━━━━━━━━━\u001b[0m\u001b[37m━━━━━━\u001b[0m \u001b[1m0s\u001b[0m 631us/step - accuracy: 0.8839 - loss: 0.3508\n",
      "Epoch 52: val_loss did not improve from 0.39439\n",
      "\u001b[1m219/219\u001b[0m \u001b[32m━━━━━━━━━━━━━━━━━━━━\u001b[0m\u001b[37m\u001b[0m \u001b[1m0s\u001b[0m 754us/step - accuracy: 0.8812 - loss: 0.3558 - val_accuracy: 0.8884 - val_loss: 0.4053\n",
      "Epoch 53/100\n",
      "\u001b[1m160/219\u001b[0m \u001b[32m━━━━━━━━━━━━━━\u001b[0m\u001b[37m━━━━━━\u001b[0m \u001b[1m0s\u001b[0m 632us/step - accuracy: 0.8728 - loss: 0.3548\n",
      "Epoch 53: val_loss did not improve from 0.39439\n",
      "\u001b[1m219/219\u001b[0m \u001b[32m━━━━━━━━━━━━━━━━━━━━\u001b[0m\u001b[37m\u001b[0m \u001b[1m0s\u001b[0m 758us/step - accuracy: 0.8728 - loss: 0.3575 - val_accuracy: 0.8701 - val_loss: 0.4243\n",
      "Epoch 54/100\n",
      "\u001b[1m159/219\u001b[0m \u001b[32m━━━━━━━━━━━━━━\u001b[0m\u001b[37m━━━━━━\u001b[0m \u001b[1m0s\u001b[0m 636us/step - accuracy: 0.8755 - loss: 0.3717\n",
      "Epoch 54: val_loss improved from 0.39439 to 0.38493, saving model to saved_models/audio_classification.keras\n",
      "\u001b[1m219/219\u001b[0m \u001b[32m━━━━━━━━━━━━━━━━━━━━\u001b[0m\u001b[37m\u001b[0m \u001b[1m0s\u001b[0m 809us/step - accuracy: 0.8757 - loss: 0.3714 - val_accuracy: 0.8804 - val_loss: 0.3849\n",
      "Epoch 55/100\n",
      "\u001b[1m158/219\u001b[0m \u001b[32m━━━━━━━━━━━━━━\u001b[0m\u001b[37m━━━━━━\u001b[0m \u001b[1m0s\u001b[0m 641us/step - accuracy: 0.8872 - loss: 0.3438\n",
      "Epoch 55: val_loss improved from 0.38493 to 0.38268, saving model to saved_models/audio_classification.keras\n",
      "\u001b[1m219/219\u001b[0m \u001b[32m━━━━━━━━━━━━━━━━━━━━\u001b[0m\u001b[37m\u001b[0m \u001b[1m0s\u001b[0m 815us/step - accuracy: 0.8848 - loss: 0.3485 - val_accuracy: 0.8792 - val_loss: 0.3827\n",
      "Epoch 56/100\n",
      "\u001b[1m159/219\u001b[0m \u001b[32m━━━━━━━━━━━━━━\u001b[0m\u001b[37m━━━━━━\u001b[0m \u001b[1m0s\u001b[0m 636us/step - accuracy: 0.8780 - loss: 0.3405\n",
      "Epoch 56: val_loss improved from 0.38268 to 0.37597, saving model to saved_models/audio_classification.keras\n",
      "\u001b[1m219/219\u001b[0m \u001b[32m━━━━━━━━━━━━━━━━━━━━\u001b[0m\u001b[37m\u001b[0m \u001b[1m0s\u001b[0m 814us/step - accuracy: 0.8772 - loss: 0.3448 - val_accuracy: 0.8924 - val_loss: 0.3760\n",
      "Epoch 57/100\n",
      "\u001b[1m157/219\u001b[0m \u001b[32m━━━━━━━━━━━━━━\u001b[0m\u001b[37m━━━━━━\u001b[0m \u001b[1m0s\u001b[0m 644us/step - accuracy: 0.8749 - loss: 0.3744\n",
      "Epoch 57: val_loss did not improve from 0.37597\n",
      "\u001b[1m219/219\u001b[0m \u001b[32m━━━━━━━━━━━━━━━━━━━━\u001b[0m\u001b[37m\u001b[0m \u001b[1m0s\u001b[0m 764us/step - accuracy: 0.8728 - loss: 0.3771 - val_accuracy: 0.8775 - val_loss: 0.3907\n",
      "Epoch 58/100\n",
      "\u001b[1m161/219\u001b[0m \u001b[32m━━━━━━━━━━━━━━\u001b[0m\u001b[37m━━━━━━\u001b[0m \u001b[1m0s\u001b[0m 627us/step - accuracy: 0.8883 - loss: 0.3256\n",
      "Epoch 58: val_loss improved from 0.37597 to 0.36434, saving model to saved_models/audio_classification.keras\n",
      "\u001b[1m219/219\u001b[0m \u001b[32m━━━━━━━━━━━━━━━━━━━━\u001b[0m\u001b[37m\u001b[0m \u001b[1m0s\u001b[0m 799us/step - accuracy: 0.8877 - loss: 0.3286 - val_accuracy: 0.8884 - val_loss: 0.3643\n",
      "Epoch 59/100\n",
      "\u001b[1m203/219\u001b[0m \u001b[32m━━━━━━━━━━━━━━━━━━\u001b[0m\u001b[37m━━\u001b[0m \u001b[1m0s\u001b[0m 749us/step - accuracy: 0.8823 - loss: 0.3488\n",
      "Epoch 59: val_loss did not improve from 0.36434\n",
      "\u001b[1m219/219\u001b[0m \u001b[32m━━━━━━━━━━━━━━━━━━━━\u001b[0m\u001b[37m\u001b[0m \u001b[1m0s\u001b[0m 867us/step - accuracy: 0.8821 - loss: 0.3492 - val_accuracy: 0.8804 - val_loss: 0.3771\n",
      "Epoch 60/100\n",
      "\u001b[1m161/219\u001b[0m \u001b[32m━━━━━━━━━━━━━━\u001b[0m\u001b[37m━━━━━━\u001b[0m \u001b[1m0s\u001b[0m 628us/step - accuracy: 0.8869 - loss: 0.3454\n",
      "Epoch 60: val_loss did not improve from 0.36434\n",
      "\u001b[1m219/219\u001b[0m \u001b[32m━━━━━━━━━━━━━━━━━━━━\u001b[0m\u001b[37m\u001b[0m \u001b[1m0s\u001b[0m 752us/step - accuracy: 0.8852 - loss: 0.3493 - val_accuracy: 0.8786 - val_loss: 0.3648\n",
      "Epoch 61/100\n",
      "\u001b[1m162/219\u001b[0m \u001b[32m━━━━━━━━━━━━━━\u001b[0m\u001b[37m━━━━━━\u001b[0m \u001b[1m0s\u001b[0m 626us/step - accuracy: 0.8731 - loss: 0.3643\n",
      "Epoch 61: val_loss did not improve from 0.36434\n",
      "\u001b[1m219/219\u001b[0m \u001b[32m━━━━━━━━━━━━━━━━━━━━\u001b[0m\u001b[37m\u001b[0m \u001b[1m0s\u001b[0m 744us/step - accuracy: 0.8741 - loss: 0.3614 - val_accuracy: 0.8809 - val_loss: 0.3732\n",
      "Epoch 62/100\n",
      "\u001b[1m162/219\u001b[0m \u001b[32m━━━━━━━━━━━━━━\u001b[0m\u001b[37m━━━━━━\u001b[0m \u001b[1m0s\u001b[0m 625us/step - accuracy: 0.8754 - loss: 0.3559\n",
      "Epoch 62: val_loss did not improve from 0.36434\n",
      "\u001b[1m219/219\u001b[0m \u001b[32m━━━━━━━━━━━━━━━━━━━━\u001b[0m\u001b[37m\u001b[0m \u001b[1m0s\u001b[0m 745us/step - accuracy: 0.8778 - loss: 0.3483 - val_accuracy: 0.8935 - val_loss: 0.3706\n",
      "Epoch 63/100\n",
      "\u001b[1m152/219\u001b[0m \u001b[32m━━━━━━━━━━━━━\u001b[0m\u001b[37m━━━━━━━\u001b[0m \u001b[1m0s\u001b[0m 665us/step - accuracy: 0.8877 - loss: 0.3359\n",
      "Epoch 63: val_loss did not improve from 0.36434\n",
      "\u001b[1m219/219\u001b[0m \u001b[32m━━━━━━━━━━━━━━━━━━━━\u001b[0m\u001b[37m\u001b[0m \u001b[1m0s\u001b[0m 787us/step - accuracy: 0.8870 - loss: 0.3368 - val_accuracy: 0.8918 - val_loss: 0.3884\n",
      "Epoch 64/100\n",
      "\u001b[1m152/219\u001b[0m \u001b[32m━━━━━━━━━━━━━\u001b[0m\u001b[37m━━━━━━━\u001b[0m \u001b[1m0s\u001b[0m 669us/step - accuracy: 0.8823 - loss: 0.3441\n",
      "Epoch 64: val_loss did not improve from 0.36434\n",
      "\u001b[1m219/219\u001b[0m \u001b[32m━━━━━━━━━━━━━━━━━━━━\u001b[0m\u001b[37m\u001b[0m \u001b[1m0s\u001b[0m 791us/step - accuracy: 0.8828 - loss: 0.3425 - val_accuracy: 0.8901 - val_loss: 0.3870\n",
      "Epoch 65/100\n",
      "\u001b[1m161/219\u001b[0m \u001b[32m━━━━━━━━━━━━━━\u001b[0m\u001b[37m━━━━━━\u001b[0m \u001b[1m0s\u001b[0m 627us/step - accuracy: 0.8829 - loss: 0.3493\n",
      "Epoch 65: val_loss did not improve from 0.36434\n",
      "\u001b[1m219/219\u001b[0m \u001b[32m━━━━━━━━━━━━━━━━━━━━\u001b[0m\u001b[37m\u001b[0m \u001b[1m0s\u001b[0m 749us/step - accuracy: 0.8831 - loss: 0.3478 - val_accuracy: 0.8872 - val_loss: 0.3658\n",
      "Epoch 66/100\n",
      "\u001b[1m161/219\u001b[0m \u001b[32m━━━━━━━━━━━━━━\u001b[0m\u001b[37m━━━━━━\u001b[0m \u001b[1m0s\u001b[0m 629us/step - accuracy: 0.8990 - loss: 0.3139\n",
      "Epoch 66: val_loss did not improve from 0.36434\n",
      "\u001b[1m219/219\u001b[0m \u001b[32m━━━━━━━━━━━━━━━━━━━━\u001b[0m\u001b[37m\u001b[0m \u001b[1m0s\u001b[0m 748us/step - accuracy: 0.8985 - loss: 0.3141 - val_accuracy: 0.8872 - val_loss: 0.3794\n",
      "Epoch 67/100\n",
      "\u001b[1m146/219\u001b[0m \u001b[32m━━━━━━━━━━━━━\u001b[0m\u001b[37m━━━━━━━\u001b[0m \u001b[1m0s\u001b[0m 697us/step - accuracy: 0.8877 - loss: 0.3049\n",
      "Epoch 67: val_loss did not improve from 0.36434\n",
      "\u001b[1m219/219\u001b[0m \u001b[32m━━━━━━━━━━━━━━━━━━━━\u001b[0m\u001b[37m\u001b[0m \u001b[1m0s\u001b[0m 797us/step - accuracy: 0.8874 - loss: 0.3109 - val_accuracy: 0.8872 - val_loss: 0.3763\n",
      "Epoch 68/100\n",
      "\u001b[1m157/219\u001b[0m \u001b[32m━━━━━━━━━━━━━━\u001b[0m\u001b[37m━━━━━━\u001b[0m \u001b[1m0s\u001b[0m 646us/step - accuracy: 0.8762 - loss: 0.3445\n",
      "Epoch 68: val_loss did not improve from 0.36434\n",
      "\u001b[1m219/219\u001b[0m \u001b[32m━━━━━━━━━━━━━━━━━━━━\u001b[0m\u001b[37m\u001b[0m \u001b[1m0s\u001b[0m 764us/step - accuracy: 0.8778 - loss: 0.3414 - val_accuracy: 0.8924 - val_loss: 0.3789\n",
      "Epoch 69/100\n",
      "\u001b[1m160/219\u001b[0m \u001b[32m━━━━━━━━━━━━━━\u001b[0m\u001b[37m━━━━━━\u001b[0m \u001b[1m0s\u001b[0m 634us/step - accuracy: 0.8893 - loss: 0.3129\n",
      "Epoch 69: val_loss did not improve from 0.36434\n",
      "\u001b[1m219/219\u001b[0m \u001b[32m━━━━━━━━━━━━━━━━━━━━\u001b[0m\u001b[37m\u001b[0m \u001b[1m0s\u001b[0m 760us/step - accuracy: 0.8897 - loss: 0.3117 - val_accuracy: 0.8935 - val_loss: 0.3756\n",
      "Epoch 70/100\n",
      "\u001b[1m152/219\u001b[0m \u001b[32m━━━━━━━━━━━━━\u001b[0m\u001b[37m━━━━━━━\u001b[0m \u001b[1m0s\u001b[0m 665us/step - accuracy: 0.8829 - loss: 0.3395\n",
      "Epoch 70: val_loss did not improve from 0.36434\n",
      "\u001b[1m219/219\u001b[0m \u001b[32m━━━━━━━━━━━━━━━━━━━━\u001b[0m\u001b[37m\u001b[0m \u001b[1m0s\u001b[0m 799us/step - accuracy: 0.8842 - loss: 0.3356 - val_accuracy: 0.8878 - val_loss: 0.3931\n",
      "Epoch 71/100\n",
      "\u001b[1m159/219\u001b[0m \u001b[32m━━━━━━━━━━━━━━\u001b[0m\u001b[37m━━━━━━\u001b[0m \u001b[1m0s\u001b[0m 637us/step - accuracy: 0.8884 - loss: 0.3157\n",
      "Epoch 71: val_loss did not improve from 0.36434\n",
      "\u001b[1m219/219\u001b[0m \u001b[32m━━━━━━━━━━━━━━━━━━━━\u001b[0m\u001b[37m\u001b[0m \u001b[1m0s\u001b[0m 761us/step - accuracy: 0.8888 - loss: 0.3181 - val_accuracy: 0.8832 - val_loss: 0.3935\n",
      "Epoch 72/100\n",
      "\u001b[1m151/219\u001b[0m \u001b[32m━━━━━━━━━━━━━\u001b[0m\u001b[37m━━━━━━━\u001b[0m \u001b[1m0s\u001b[0m 673us/step - accuracy: 0.8890 - loss: 0.3360\n",
      "Epoch 72: val_loss did not improve from 0.36434\n",
      "\u001b[1m219/219\u001b[0m \u001b[32m━━━━━━━━━━━━━━━━━━━━\u001b[0m\u001b[37m\u001b[0m \u001b[1m0s\u001b[0m 791us/step - accuracy: 0.8901 - loss: 0.3316 - val_accuracy: 0.8821 - val_loss: 0.3896\n",
      "Epoch 73/100\n",
      "\u001b[1m160/219\u001b[0m \u001b[32m━━━━━━━━━━━━━━\u001b[0m\u001b[37m━━━━━━\u001b[0m \u001b[1m0s\u001b[0m 632us/step - accuracy: 0.9015 - loss: 0.3050\n",
      "Epoch 73: val_loss did not improve from 0.36434\n",
      "\u001b[1m219/219\u001b[0m \u001b[32m━━━━━━━━━━━━━━━━━━━━\u001b[0m\u001b[37m\u001b[0m \u001b[1m0s\u001b[0m 756us/step - accuracy: 0.9002 - loss: 0.3108 - val_accuracy: 0.8884 - val_loss: 0.3900\n",
      "Epoch 74/100\n",
      "\u001b[1m192/219\u001b[0m \u001b[32m━━━━━━━━━━━━━━━━━\u001b[0m\u001b[37m━━━\u001b[0m \u001b[1m0s\u001b[0m 788us/step - accuracy: 0.8961 - loss: 0.3190\n",
      "Epoch 74: val_loss did not improve from 0.36434\n",
      "\u001b[1m219/219\u001b[0m \u001b[32m━━━━━━━━━━━━━━━━━━━━\u001b[0m\u001b[37m\u001b[0m \u001b[1m0s\u001b[0m 900us/step - accuracy: 0.8955 - loss: 0.3205 - val_accuracy: 0.8918 - val_loss: 0.3706\n",
      "Epoch 75/100\n",
      "\u001b[1m160/219\u001b[0m \u001b[32m━━━━━━━━━━━━━━\u001b[0m\u001b[37m━━━━━━\u001b[0m \u001b[1m0s\u001b[0m 632us/step - accuracy: 0.8954 - loss: 0.3182\n",
      "Epoch 75: val_loss improved from 0.36434 to 0.36375, saving model to saved_models/audio_classification.keras\n",
      "\u001b[1m219/219\u001b[0m \u001b[32m━━━━━━━━━━━━━━━━━━━━\u001b[0m\u001b[37m\u001b[0m \u001b[1m0s\u001b[0m 808us/step - accuracy: 0.8948 - loss: 0.3175 - val_accuracy: 0.8998 - val_loss: 0.3638\n",
      "Epoch 76/100\n",
      "\u001b[1m160/219\u001b[0m \u001b[32m━━━━━━━━━━━━━━\u001b[0m\u001b[37m━━━━━━\u001b[0m \u001b[1m0s\u001b[0m 635us/step - accuracy: 0.8987 - loss: 0.2922\n",
      "Epoch 76: val_loss did not improve from 0.36375\n",
      "\u001b[1m219/219\u001b[0m \u001b[32m━━━━━━━━━━━━━━━━━━━━\u001b[0m\u001b[37m\u001b[0m \u001b[1m0s\u001b[0m 757us/step - accuracy: 0.8977 - loss: 0.2950 - val_accuracy: 0.8872 - val_loss: 0.3842\n",
      "Epoch 77/100\n",
      "\u001b[1m153/219\u001b[0m \u001b[32m━━━━━━━━━━━━━\u001b[0m\u001b[37m━━━━━━━\u001b[0m \u001b[1m0s\u001b[0m 663us/step - accuracy: 0.8920 - loss: 0.3080\n",
      "Epoch 77: val_loss improved from 0.36375 to 0.35884, saving model to saved_models/audio_classification.keras\n",
      "\u001b[1m219/219\u001b[0m \u001b[32m━━━━━━━━━━━━━━━━━━━━\u001b[0m\u001b[37m\u001b[0m \u001b[1m0s\u001b[0m 834us/step - accuracy: 0.8919 - loss: 0.3122 - val_accuracy: 0.9015 - val_loss: 0.3588\n",
      "Epoch 78/100\n",
      "\u001b[1m153/219\u001b[0m \u001b[32m━━━━━━━━━━━━━\u001b[0m\u001b[37m━━━━━━━\u001b[0m \u001b[1m0s\u001b[0m 665us/step - accuracy: 0.9000 - loss: 0.2987\n",
      "Epoch 78: val_loss did not improve from 0.35884\n",
      "\u001b[1m219/219\u001b[0m \u001b[32m━━━━━━━━━━━━━━━━━━━━\u001b[0m\u001b[37m\u001b[0m \u001b[1m0s\u001b[0m 784us/step - accuracy: 0.8981 - loss: 0.3035 - val_accuracy: 0.8941 - val_loss: 0.3706\n",
      "Epoch 79/100\n",
      "\u001b[1m159/219\u001b[0m \u001b[32m━━━━━━━━━━━━━━\u001b[0m\u001b[37m━━━━━━\u001b[0m \u001b[1m0s\u001b[0m 635us/step - accuracy: 0.8981 - loss: 0.3044\n",
      "Epoch 79: val_loss did not improve from 0.35884\n",
      "\u001b[1m219/219\u001b[0m \u001b[32m━━━━━━━━━━━━━━━━━━━━\u001b[0m\u001b[37m\u001b[0m \u001b[1m0s\u001b[0m 759us/step - accuracy: 0.8980 - loss: 0.3042 - val_accuracy: 0.8901 - val_loss: 0.3913\n",
      "Epoch 80/100\n",
      "\u001b[1m164/219\u001b[0m \u001b[32m━━━━━━━━━━━━━━\u001b[0m\u001b[37m━━━━━━\u001b[0m \u001b[1m0s\u001b[0m 617us/step - accuracy: 0.8838 - loss: 0.3644\n",
      "Epoch 80: val_loss did not improve from 0.35884\n",
      "\u001b[1m219/219\u001b[0m \u001b[32m━━━━━━━━━━━━━━━━━━━━\u001b[0m\u001b[37m\u001b[0m \u001b[1m0s\u001b[0m 748us/step - accuracy: 0.8863 - loss: 0.3544 - val_accuracy: 0.8786 - val_loss: 0.4012\n",
      "Epoch 81/100\n",
      "\u001b[1m156/219\u001b[0m \u001b[32m━━━━━━━━━━━━━━\u001b[0m\u001b[37m━━━━━━\u001b[0m \u001b[1m0s\u001b[0m 651us/step - accuracy: 0.9123 - loss: 0.2598\n",
      "Epoch 81: val_loss did not improve from 0.35884\n",
      "\u001b[1m219/219\u001b[0m \u001b[32m━━━━━━━━━━━━━━━━━━━━\u001b[0m\u001b[37m\u001b[0m \u001b[1m0s\u001b[0m 779us/step - accuracy: 0.9083 - loss: 0.2693 - val_accuracy: 0.8884 - val_loss: 0.3964\n",
      "Epoch 82/100\n",
      "\u001b[1m203/219\u001b[0m \u001b[32m━━━━━━━━━━━━━━━━━━\u001b[0m\u001b[37m━━\u001b[0m \u001b[1m0s\u001b[0m 749us/step - accuracy: 0.8999 - loss: 0.3061\n",
      "Epoch 82: val_loss did not improve from 0.35884\n",
      "\u001b[1m219/219\u001b[0m \u001b[32m━━━━━━━━━━━━━━━━━━━━\u001b[0m\u001b[37m\u001b[0m \u001b[1m0s\u001b[0m 876us/step - accuracy: 0.8997 - loss: 0.3058 - val_accuracy: 0.8935 - val_loss: 0.3830\n",
      "Epoch 83/100\n",
      "\u001b[1m154/219\u001b[0m \u001b[32m━━━━━━━━━━━━━━\u001b[0m\u001b[37m━━━━━━\u001b[0m \u001b[1m0s\u001b[0m 658us/step - accuracy: 0.9043 - loss: 0.2850\n",
      "Epoch 83: val_loss did not improve from 0.35884\n",
      "\u001b[1m219/219\u001b[0m \u001b[32m━━━━━━━━━━━━━━━━━━━━\u001b[0m\u001b[37m\u001b[0m \u001b[1m0s\u001b[0m 772us/step - accuracy: 0.9023 - loss: 0.2897 - val_accuracy: 0.8941 - val_loss: 0.3767\n",
      "Epoch 84/100\n",
      "\u001b[1m161/219\u001b[0m \u001b[32m━━━━━━━━━━━━━━\u001b[0m\u001b[37m━━━━━━\u001b[0m \u001b[1m0s\u001b[0m 629us/step - accuracy: 0.8965 - loss: 0.2986\n",
      "Epoch 84: val_loss did not improve from 0.35884\n",
      "\u001b[1m219/219\u001b[0m \u001b[32m━━━━━━━━━━━━━━━━━━━━\u001b[0m\u001b[37m\u001b[0m \u001b[1m0s\u001b[0m 754us/step - accuracy: 0.8970 - loss: 0.2982 - val_accuracy: 0.8947 - val_loss: 0.3685\n",
      "Epoch 85/100\n",
      "\u001b[1m152/219\u001b[0m \u001b[32m━━━━━━━━━━━━━\u001b[0m\u001b[37m━━━━━━━\u001b[0m \u001b[1m0s\u001b[0m 667us/step - accuracy: 0.9040 - loss: 0.2767\n",
      "Epoch 85: val_loss improved from 0.35884 to 0.35819, saving model to saved_models/audio_classification.keras\n",
      "\u001b[1m219/219\u001b[0m \u001b[32m━━━━━━━━━━━━━━━━━━━━\u001b[0m\u001b[37m\u001b[0m \u001b[1m0s\u001b[0m 837us/step - accuracy: 0.9041 - loss: 0.2759 - val_accuracy: 0.8987 - val_loss: 0.3582\n",
      "Epoch 86/100\n",
      "\u001b[1m155/219\u001b[0m \u001b[32m━━━━━━━━━━━━━━\u001b[0m\u001b[37m━━━━━━\u001b[0m \u001b[1m0s\u001b[0m 654us/step - accuracy: 0.9109 - loss: 0.2628\n",
      "Epoch 86: val_loss did not improve from 0.35819\n",
      "\u001b[1m219/219\u001b[0m \u001b[32m━━━━━━━━━━━━━━━━━━━━\u001b[0m\u001b[37m\u001b[0m \u001b[1m0s\u001b[0m 777us/step - accuracy: 0.9077 - loss: 0.2716 - val_accuracy: 0.8947 - val_loss: 0.3620\n",
      "Epoch 87/100\n",
      "\u001b[1m154/219\u001b[0m \u001b[32m━━━━━━━━━━━━━━\u001b[0m\u001b[37m━━━━━━\u001b[0m \u001b[1m0s\u001b[0m 659us/step - accuracy: 0.8951 - loss: 0.3047\n",
      "Epoch 87: val_loss improved from 0.35819 to 0.35321, saving model to saved_models/audio_classification.keras\n",
      "\u001b[1m219/219\u001b[0m \u001b[32m━━━━━━━━━━━━━━━━━━━━\u001b[0m\u001b[37m\u001b[0m \u001b[1m0s\u001b[0m 831us/step - accuracy: 0.8959 - loss: 0.3067 - val_accuracy: 0.9027 - val_loss: 0.3532\n",
      "Epoch 88/100\n",
      "\u001b[1m159/219\u001b[0m \u001b[32m━━━━━━━━━━━━━━\u001b[0m\u001b[37m━━━━━━\u001b[0m \u001b[1m0s\u001b[0m 635us/step - accuracy: 0.9000 - loss: 0.2880\n",
      "Epoch 88: val_loss did not improve from 0.35321\n",
      "\u001b[1m219/219\u001b[0m \u001b[32m━━━━━━━━━━━━━━━━━━━━\u001b[0m\u001b[37m\u001b[0m \u001b[1m0s\u001b[0m 757us/step - accuracy: 0.9000 - loss: 0.2892 - val_accuracy: 0.8935 - val_loss: 0.3916\n",
      "Epoch 89/100\n",
      "\u001b[1m143/219\u001b[0m \u001b[32m━━━━━━━━━━━━━\u001b[0m\u001b[37m━━━━━━━\u001b[0m \u001b[1m0s\u001b[0m 706us/step - accuracy: 0.8895 - loss: 0.3074\n",
      "Epoch 89: val_loss did not improve from 0.35321\n",
      "\u001b[1m219/219\u001b[0m \u001b[32m━━━━━━━━━━━━━━━━━━━━\u001b[0m\u001b[37m\u001b[0m \u001b[1m0s\u001b[0m 810us/step - accuracy: 0.8921 - loss: 0.3048 - val_accuracy: 0.8993 - val_loss: 0.3699\n",
      "Epoch 90/100\n",
      "\u001b[1m160/219\u001b[0m \u001b[32m━━━━━━━━━━━━━━\u001b[0m\u001b[37m━━━━━━\u001b[0m \u001b[1m0s\u001b[0m 632us/step - accuracy: 0.8954 - loss: 0.2982\n",
      "Epoch 90: val_loss did not improve from 0.35321\n",
      "\u001b[1m219/219\u001b[0m \u001b[32m━━━━━━━━━━━━━━━━━━━━\u001b[0m\u001b[37m\u001b[0m \u001b[1m0s\u001b[0m 758us/step - accuracy: 0.8974 - loss: 0.2939 - val_accuracy: 0.8941 - val_loss: 0.3960\n",
      "Epoch 91/100\n",
      "\u001b[1m209/219\u001b[0m \u001b[32m━━━━━━━━━━━━━━━━━━━\u001b[0m\u001b[37m━\u001b[0m \u001b[1m0s\u001b[0m 724us/step - accuracy: 0.8986 - loss: 0.2855\n",
      "Epoch 91: val_loss did not improve from 0.35321\n",
      "\u001b[1m219/219\u001b[0m \u001b[32m━━━━━━━━━━━━━━━━━━━━\u001b[0m\u001b[37m\u001b[0m \u001b[1m0s\u001b[0m 863us/step - accuracy: 0.8988 - loss: 0.2854 - val_accuracy: 0.8901 - val_loss: 0.3743\n",
      "Epoch 92/100\n",
      "\u001b[1m203/219\u001b[0m \u001b[32m━━━━━━━━━━━━━━━━━━\u001b[0m\u001b[37m━━\u001b[0m \u001b[1m0s\u001b[0m 749us/step - accuracy: 0.9062 - loss: 0.2650\n",
      "Epoch 92: val_loss did not improve from 0.35321\n",
      "\u001b[1m219/219\u001b[0m \u001b[32m━━━━━━━━━━━━━━━━━━━━\u001b[0m\u001b[37m\u001b[0m \u001b[1m0s\u001b[0m 879us/step - accuracy: 0.9056 - loss: 0.2666 - val_accuracy: 0.8975 - val_loss: 0.3599\n",
      "Epoch 93/100\n",
      "\u001b[1m218/219\u001b[0m \u001b[32m━━━━━━━━━━━━━━━━━━━\u001b[0m\u001b[37m━\u001b[0m \u001b[1m0s\u001b[0m 693us/step - accuracy: 0.9056 - loss: 0.2798\n",
      "Epoch 93: val_loss did not improve from 0.35321\n",
      "\u001b[1m219/219\u001b[0m \u001b[32m━━━━━━━━━━━━━━━━━━━━\u001b[0m\u001b[37m\u001b[0m \u001b[1m0s\u001b[0m 821us/step - accuracy: 0.9055 - loss: 0.2800 - val_accuracy: 0.8895 - val_loss: 0.3624\n",
      "Epoch 94/100\n",
      "\u001b[1m213/219\u001b[0m \u001b[32m━━━━━━━━━━━━━━━━━━━\u001b[0m\u001b[37m━\u001b[0m \u001b[1m0s\u001b[0m 710us/step - accuracy: 0.8999 - loss: 0.2857\n",
      "Epoch 94: val_loss did not improve from 0.35321\n",
      "\u001b[1m219/219\u001b[0m \u001b[32m━━━━━━━━━━━━━━━━━━━━\u001b[0m\u001b[37m\u001b[0m \u001b[1m0s\u001b[0m 1ms/step - accuracy: 0.8998 - loss: 0.2858 - val_accuracy: 0.8872 - val_loss: 0.3911\n",
      "Epoch 95/100\n",
      "\u001b[1m209/219\u001b[0m \u001b[32m━━━━━━━━━━━━━━━━━━━\u001b[0m\u001b[37m━\u001b[0m \u001b[1m0s\u001b[0m 723us/step - accuracy: 0.9047 - loss: 0.3001\n",
      "Epoch 95: val_loss did not improve from 0.35321\n",
      "\u001b[1m219/219\u001b[0m \u001b[32m━━━━━━━━━━━━━━━━━━━━\u001b[0m\u001b[37m\u001b[0m \u001b[1m0s\u001b[0m 863us/step - accuracy: 0.9043 - loss: 0.3006 - val_accuracy: 0.8901 - val_loss: 0.3816\n",
      "Epoch 96/100\n",
      "\u001b[1m210/219\u001b[0m \u001b[32m━━━━━━━━━━━━━━━━━━━\u001b[0m\u001b[37m━\u001b[0m \u001b[1m0s\u001b[0m 723us/step - accuracy: 0.9001 - loss: 0.2839\n",
      "Epoch 96: val_loss did not improve from 0.35321\n",
      "\u001b[1m219/219\u001b[0m \u001b[32m━━━━━━━━━━━━━━━━━━━━\u001b[0m\u001b[37m\u001b[0m \u001b[1m0s\u001b[0m 854us/step - accuracy: 0.9002 - loss: 0.2841 - val_accuracy: 0.8947 - val_loss: 0.3646\n",
      "Epoch 97/100\n",
      "\u001b[1m193/219\u001b[0m \u001b[32m━━━━━━━━━━━━━━━━━\u001b[0m\u001b[37m━━━\u001b[0m \u001b[1m0s\u001b[0m 787us/step - accuracy: 0.9043 - loss: 0.2766\n",
      "Epoch 97: val_loss did not improve from 0.35321\n",
      "\u001b[1m219/219\u001b[0m \u001b[32m━━━━━━━━━━━━━━━━━━━━\u001b[0m\u001b[37m\u001b[0m \u001b[1m0s\u001b[0m 906us/step - accuracy: 0.9043 - loss: 0.2778 - val_accuracy: 0.9010 - val_loss: 0.3578\n",
      "Epoch 98/100\n",
      "\u001b[1m153/219\u001b[0m \u001b[32m━━━━━━━━━━━━━\u001b[0m\u001b[37m━━━━━━━\u001b[0m \u001b[1m0s\u001b[0m 662us/step - accuracy: 0.8972 - loss: 0.3071\n",
      "Epoch 98: val_loss improved from 0.35321 to 0.34255, saving model to saved_models/audio_classification.keras\n",
      "\u001b[1m219/219\u001b[0m \u001b[32m━━━━━━━━━━━━━━━━━━━━\u001b[0m\u001b[37m\u001b[0m \u001b[1m0s\u001b[0m 839us/step - accuracy: 0.8980 - loss: 0.3063 - val_accuracy: 0.9027 - val_loss: 0.3425\n",
      "Epoch 99/100\n",
      "\u001b[1m149/219\u001b[0m \u001b[32m━━━━━━━━━━━━━\u001b[0m\u001b[37m━━━━━━━\u001b[0m \u001b[1m0s\u001b[0m 679us/step - accuracy: 0.9088 - loss: 0.2608\n",
      "Epoch 99: val_loss did not improve from 0.34255\n",
      "\u001b[1m219/219\u001b[0m \u001b[32m━━━━━━━━━━━━━━━━━━━━\u001b[0m\u001b[37m\u001b[0m \u001b[1m0s\u001b[0m 790us/step - accuracy: 0.9086 - loss: 0.2622 - val_accuracy: 0.8930 - val_loss: 0.3629\n",
      "Epoch 100/100\n",
      "\u001b[1m196/219\u001b[0m \u001b[32m━━━━━━━━━━━━━━━━━\u001b[0m\u001b[37m━━━\u001b[0m \u001b[1m0s\u001b[0m 792us/step - accuracy: 0.9061 - loss: 0.2790\n",
      "Epoch 100: val_loss did not improve from 0.34255\n",
      "\u001b[1m219/219\u001b[0m \u001b[32m━━━━━━━━━━━━━━━━━━━━\u001b[0m\u001b[37m\u001b[0m \u001b[1m0s\u001b[0m 909us/step - accuracy: 0.9058 - loss: 0.2796 - val_accuracy: 0.9084 - val_loss: 0.3464\n",
      "Training completed in time:  0:00:19.721042\n"
     ]
    }
   ],
   "source": [
    "## Trianing my model\n",
    "from tensorflow.keras.callbacks import ModelCheckpoint\n",
    "from datetime import datetime \n",
    "\n",
    "num_epochs = 100\n",
    "num_batch_size = 32\n",
    "\n",
    "checkpointer = ModelCheckpoint(filepath='saved_models/audio_classification.keras', \n",
    "                               verbose=1, save_best_only=True)\n",
    "start = datetime.now()\n",
    "\n",
    "history = model.fit(X_train, y_train, batch_size=num_batch_size, epochs=num_epochs, validation_data=(X_test, y_test), callbacks=[checkpointer], verbose=1)\n",
    "\n",
    "\n",
    "duration = datetime.now() - start\n",
    "print(\"Training completed in time: \", duration)"
   ]
  },
  {
   "cell_type": "code",
   "execution_count": 86,
   "metadata": {},
   "outputs": [
    {
     "data": {
      "image/png": "[encoded data removed]",
      "text/plain": [
       "<Figure size 640x480 with 1 Axes>"
      ]
     },
     "metadata": {},
     "output_type": "display_data"
    },
    {
     "data": {
      "image/png": "[encoded data removed]",
      "text/plain": [
       "<Figure size 640x480 with 1 Axes>"
      ]
     },
     "metadata": {},
     "output_type": "display_data"
    }
   ],
   "source": [
    "import matplotlib.pyplot as plt\n",
    "#plot the training and validation accuracy and loss at each epoch\n",
    "loss = history.history['loss']\n",
    "val_loss = history.history['val_loss']\n",
    "epochs = range(1, len(loss) + 1)\n",
    "plt.plot(epochs, loss, 'y', label='Training loss')\n",
    "plt.plot(epochs, val_loss, 'r', label='Validation loss')\n",
    "plt.title('Training and validation loss')\n",
    "plt.xlabel('Epochs')\n",
    "plt.ylabel('Loss')\n",
    "plt.legend()\n",
    "plt.show()\n",
    "\n",
    "acc = history.history['accuracy']\n",
    "#acc = history.history['accuracy']\n",
    "val_acc = history.history['val_accuracy']\n",
    "#val_acc = history.history['val_accuracy']\n",
    "\n",
    "plt.plot(epochs, acc, 'y', label='Training accuracy')\n",
    "plt.plot(epochs, val_acc, 'r', label='Validation accuracy')\n",
    "plt.title('Training and validation accuracy')\n",
    "plt.xlabel('Epochs')\n",
    "plt.ylabel('Accuracy')\n",
    "plt.legend()\n",
    "plt.show()"
   ]
  },
  {
   "cell_type": "code",
   "execution_count": 87,
   "metadata": {},
   "outputs": [],
   "source": [
    "from keras.models import load_model\n",
    "model = load_model('../Audio_Classification/saved_models/audio_classification.keras')"
   ]
  },
  {
   "cell_type": "code",
   "execution_count": 88,
   "metadata": {},
   "outputs": [
    {
     "name": "stdout",
     "output_type": "stream",
     "text": [
      "0.9026903510093689\n"
     ]
    }
   ],
   "source": [
    "test_accuracy=model.evaluate(X_test,y_test,verbose=0)\n",
    "print(test_accuracy[1])"
   ]
  }
 ],
 "metadata": {
  "kernelspec": {
   "display_name": "audio",
   "language": "python",
   "name": "python3"
  },
  "language_info": {
   "codemirror_mode": {
    "name": "ipython",
    "version": 3
   },
   "file_extension": ".py",
   "mimetype": "text/x-python",
   "name": "python",
   "nbconvert_exporter": "python",
   "pygments_lexer": "ipython3",
   "version": "3.10.14"
  }
 },
 "nbformat": 4,
 "nbformat_minor": 2
}
